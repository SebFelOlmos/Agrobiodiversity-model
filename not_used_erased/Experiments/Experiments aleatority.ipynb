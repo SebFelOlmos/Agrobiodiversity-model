{
 "cells": [
  {
   "cell_type": "code",
   "execution_count": 1,
   "id": "c72c848b",
   "metadata": {},
   "outputs": [],
   "source": [
    "import numpy as np\n",
    "import random\n",
    "import time\n",
    "import math\n",
    "import random\n",
    "import os\n",
    "import json\n",
    "import sys\n",
    "import pandas as pd\n",
    "from datetime import datetime\n",
    "import matplotlib.pyplot as plt\n",
    "\n",
    "# Notebook path\n",
    "current_directory = os.getcwd()\n",
    "# Get one behind for calling the other modules\n",
    "root_directory = os.path.abspath(os.path.join(current_directory, '..'))\n",
    "sys.path.append(root_directory)\n",
    "\n",
    "#Network and measures\n",
    "from to_get_data.net_construction_vis_measures import *\n",
    "\n",
    "from to_get_data.generate_database import *\n",
    "#Agrobiodiversity\n",
    "from to_get_data.agrobiodiversity_data import *\n",
    "\n",
    "from model_class.Variety import Variety\n",
    "from model_class.UD import *\n",
    "from model_class.UD_aleatory_inheritance import *"
   ]
  },
  {
   "cell_type": "markdown",
   "id": "b7427748",
   "metadata": {},
   "source": [
    "# General (aleatory and with inheritance)"
   ]
  },
  {
   "cell_type": "markdown",
   "id": "1e3c2747",
   "metadata": {},
   "source": [
    "## Endogamy"
   ]
  },
  {
   "cell_type": "code",
   "execution_count": 2,
   "id": "898919f4",
   "metadata": {},
   "outputs": [
    {
     "name": "stdout",
     "output_type": "stream",
     "text": [
      "Experiments with inheritance 0\n",
      "939\n",
      "447\n",
      "Experiments with inheritance 25\n",
      "1595\n",
      "1733\n",
      "Experiments with inheritance 50\n",
      "1408\n",
      "1361\n",
      "Experiments with inheritance 75\n",
      "1112\n",
      "1608\n",
      "Experiments with inheritance 100\n",
      "466\n",
      "705\n",
      "Experiments with inheritance False\n",
      "686\n",
      "935\n",
      "Data saved successfully to results_inheritance\\inherit_data_endo.json\n"
     ]
    }
   ],
   "source": [
    "#ENDOGAMY \n",
    "#Parameters endogamy\n",
    "experiments = 2\n",
    "iniciais = 30 # Initial UD\n",
    "prob_morte = 0.06 # Beta from the gutertz equation\n",
    "media = 4 # Average children per UD\n",
    "random.seed(42) # Random seed\n",
    "t = 600 #steps of the simulation\n",
    "inheritance = [0,25,50,75,100, 'False']\n",
    "data_inherit_endo = {}\n",
    "for inherit in inheritance:\n",
    "    print(f\"Experiments with inheritance {inherit}\")\n",
    "    #Lists to store experiments' data\n",
    "    data_endo_mean_ud = []\n",
    "    data_endo_com_level = []\n",
    "    data_endo_total_varieties = []\n",
    "    for exp in range(1, experiments+1):\n",
    "        #### Initialization endogamy\n",
    "        ## Communities\n",
    "        communities = (list(range(1, 2 + 1)) * (iniciais // 2)) # Just 2 communities\n",
    "        random.shuffle(communities)\n",
    "        if inherit != 'False':\n",
    "            UD_endogamy.uds = {}\n",
    "            instancias_ud = []\n",
    "            for id_ud in range(1, int(iniciais) + 1):\n",
    "                    instancias_ud.append(UD_endogamy(id_ud, media, communities.pop()))\n",
    "            ## Varieties\n",
    "            limited_varieties = True\n",
    "            if limited_varieties == False:\n",
    "                for id_ud, ud in UD_endogamy.uds.items():\n",
    "                    for _ in range(3):\n",
    "                        ud.varieties.append(Variety())\n",
    "            else:\n",
    "                initial_varieties = [Variety() for _ in range (30)]\n",
    "                for ud in UD_endogamy.uds.values():\n",
    "                    for _ in range(10):\n",
    "                        ud.varieties.append(random.choice(initial_varieties))\n",
    "            #### Simulation endogamy\n",
    "            for i in range (1, (t)):\n",
    "                uds_copy = {id_ud: ud for id_ud, ud in UD_endogamy.uds.items() if ud.activa}\n",
    "                if not uds_copy:\n",
    "                    print(\"acabo\")\n",
    "                    break\n",
    "                # Cycle: \n",
    "                for id_ud, ud in uds_copy.items():\n",
    "                    ud.ter_filho()\n",
    "                    ud.buscar_ud(media, inherit, True)\n",
    "                    ud.incrementar_idade()\n",
    "                    ud.death_probability(prob_morte)      \n",
    "            print(len([ud for id, ud in uds_copy.items() if ud.activa]))\n",
    "            #Get the distribution, community diversity and mean by UD\n",
    "            total_varieties = []\n",
    "            varieties_per_UD = []\n",
    "            for ud in [ud for ud in UD_endogamy.uds.values() if ud.activa ==True]:\n",
    "                varieties_per_UD.append(len(ud.varieties))\n",
    "                for variety in ud.varieties:\n",
    "                    total_varieties.append(variety.variety_id)\n",
    "            #mean_ud = np.mean(varieties_per_UD)\n",
    "            #diversity_comm_level = len(set(total_varieties))\n",
    "            data_endo_mean_ud.append(np.mean(varieties_per_UD))\n",
    "            data_endo_com_level.append(len(set(total_varieties)))\n",
    "            data_endo_total_varieties.append(total_varieties)\n",
    "        #data_inherit_endo[inherit] = [data_endo_mean_ud, data_endo_com_level, data_endo_total_varieties]\n",
    "        else:\n",
    "            UD_endogamy_al_inh.uds = {}\n",
    "            instancias_ud = []\n",
    "            for id_ud in range(1, int(iniciais) + 1):\n",
    "                    instancias_ud.append(UD_endogamy_al_inh(id_ud, media, communities.pop()))\n",
    "            ## Varieties\n",
    "            limited_varieties = True\n",
    "            if limited_varieties == False:\n",
    "                for id_ud, ud in UD_endogamy_al_inh.uds.items():\n",
    "                    for _ in range(3):\n",
    "                        ud.varieties.append(Variety())\n",
    "            else:\n",
    "                initial_varieties = [Variety() for _ in range (30)]\n",
    "                for ud in UD_endogamy_al_inh.uds.values():\n",
    "                    for _ in range(10):\n",
    "                        ud.varieties.append(random.choice(initial_varieties))\n",
    "            #### Simulation endogamy\n",
    "            for i in range (1, (t)):\n",
    "                uds_copy = {id_ud: ud for id_ud, ud in UD_endogamy_al_inh.uds.items() if ud.activa}\n",
    "                if not uds_copy:\n",
    "                    print(\"acabo\")\n",
    "                    break\n",
    "                # Cycle: \n",
    "                varieties_list = [var for ud in uds_copy.values() for var in ud.varieties]\n",
    "                for id_ud, ud in uds_copy.items():\n",
    "                    ud.ter_filho()\n",
    "                    ud.buscar_ud(media, varieties_list, True)\n",
    "                    ud.incrementar_idade()\n",
    "                    ud.death_probability(prob_morte)      \n",
    "            print(len([ud for id, ud in uds_copy.items() if ud.activa]))\n",
    "            #Get the distribution, community diversity and mean by UD\n",
    "            total_varieties = []\n",
    "            varieties_per_UD = []\n",
    "            for ud in [ud for ud in UD_endogamy_al_inh.uds.values() if ud.activa ==True]:\n",
    "                varieties_per_UD.append(len(ud.varieties))\n",
    "                for variety in ud.varieties:\n",
    "                    total_varieties.append(variety.variety_id)\n",
    "            #mean_ud = np.mean(varieties_per_UD)\n",
    "            #diversity_comm_level = len(set(total_varieties))\n",
    "            data_endo_mean_ud.append(np.mean(varieties_per_UD))\n",
    "            data_endo_com_level.append(len(set(total_varieties)))\n",
    "            data_endo_total_varieties.append(total_varieties)\n",
    "        data_inherit_endo[inherit] = [data_endo_mean_ud, data_endo_com_level, data_endo_total_varieties]\n",
    "# Folder\n",
    "folder_name = 'results_inheritance'\n",
    "if not os.path.exists(folder_name):\n",
    "    os.makedirs(folder_name)\n",
    "# Inherit data\n",
    "inherit_endo_path = os.path.join(folder_name, 'inherit_data_endo.json')\n",
    "# Save\n",
    "with open(inherit_endo_path, 'w') as json_file:\n",
    "    json.dump(data_inherit_endo, json_file, indent=4)\n",
    "# Confirmation message\n",
    "print(\"Data saved successfully to\", inherit_endo_path)"
   ]
  },
  {
   "cell_type": "code",
   "execution_count": 3,
   "id": "d2b47c5c",
   "metadata": {},
   "outputs": [],
   "source": [
    "# Load\n",
    "with open(inherit_endo_path, 'r') as json_file:\n",
    "        loaded_data_inherit_endo = json.load(json_file)"
   ]
  },
  {
   "cell_type": "code",
   "execution_count": 19,
   "id": "1c1b3112",
   "metadata": {
    "collapsed": true
   },
   "outputs": [
    {
     "name": "stdout",
     "output_type": "stream",
     "text": [
      "0\n",
      "25\n",
      "50\n",
      "75\n",
      "100\n",
      "False\n"
     ]
    }
   ],
   "source": [
    "for i in loaded_data_inherit_endo:\n",
    "    print(i)"
   ]
  },
  {
   "cell_type": "code",
   "execution_count": 4,
   "id": "5d6d656b",
   "metadata": {},
   "outputs": [
    {
     "data": {
      "image/png": "[encoded data removed]",
      "text/plain": [
       "<Figure size 432x288 with 1 Axes>"
      ]
     },
     "metadata": {
      "needs_background": "light"
     },
     "output_type": "display_data"
    }
   ],
   "source": [
    "## Data and plot from loaded data\n",
    "mean_div_com = []\n",
    "std_div_com = []\n",
    "inheritance = ['0','25','50','75','100', 'False']\n",
    "for i in inheritance:\n",
    "    mean_div_com.append(np.mean(loaded_data_inherit_endo[i][1]))\n",
    "    std_div_com.append(np.std(loaded_data_inherit_endo[i][1]))\n",
    "#Plot\n",
    "inheritance_possibilities = ['0','25','50','75','100', 'Aleatory']\n",
    "plt.errorbar(inheritance_possibilities, mean_div_com, yerr=std_div_com, fmt='o', capsize=5, capthick=2, ecolor='red', label='Data with Error Bars')\n",
    "plt.xlabel('Percentage of matrilineal inheritance')\n",
    "plt.ylabel('Mean')\n",
    "plt.title('Diversity at the community level with endogamy')\n",
    "plt.legend()\n",
    "plt.grid(True)\n",
    "plt.show()"
   ]
  },
  {
   "cell_type": "markdown",
   "id": "cf5d82da",
   "metadata": {},
   "source": [
    "## Dual organization"
   ]
  },
  {
   "cell_type": "code",
   "execution_count": 22,
   "id": "edf4843c",
   "metadata": {},
   "outputs": [
    {
     "name": "stdout",
     "output_type": "stream",
     "text": [
      "Experiments with inheritance 0\n",
      "114\n",
      "54\n",
      "Experiments with inheritance 25\n",
      "58\n",
      "55\n",
      "Experiments with inheritance 50\n",
      "105\n",
      "245\n",
      "Experiments with inheritance 75\n",
      "100\n",
      "181\n",
      "Experiments with inheritance 100\n",
      "110\n",
      "102\n",
      "Experiments with inheritance False\n",
      "105\n",
      "86\n",
      "Data saved successfully to results_inheritance\\inherit_data_dual.json\n"
     ]
    }
   ],
   "source": [
    "#DUAL ORGANIZATION\n",
    "#Parameters dual_organization\n",
    "experiments = 2\n",
    "iniciais = 30 # Initial UD\n",
    "prob_morte = 0.06 # Beta from the gutertz equation\n",
    "media = 4 # Average children per UD\n",
    "random.seed(42) # Random seed\n",
    "t = 201 #steps of the simulation\n",
    "inheritance = [0,25,50,75,100, 'False']\n",
    "data_inherit_dual = {}\n",
    "for inherit in inheritance:\n",
    "    print(f\"Experiments with inheritance {inherit}\")\n",
    "    data_dual_mean_ud = []\n",
    "    data_dual_com_level = []\n",
    "    data_dual_total_varieties = []\n",
    "    for exp in range(1,experiments+1):\n",
    "        #### Initialization dual_organization\n",
    "        ## Communities\n",
    "        clans = (list(range(1, 2 + 1)) * (iniciais // 2)) # Just 2 clans\n",
    "        communities = (list(range(1, 2 + 1)) * (iniciais // 2)) # Just 2 communities\n",
    "        random.shuffle(clans)\n",
    "        random.shuffle(communities)\n",
    "        if inherit != 'False':\n",
    "            UD_dual_organization.uds = {}\n",
    "            instancias_ud = []\n",
    "            for id_ud in range(1, int(iniciais) + 1):\n",
    "                    instancias_ud.append(UD_dual_organization(id_ud, media, communities.pop(), clans.pop()))\n",
    "            ## Varieties\n",
    "            limited_varieties = True\n",
    "            if limited_varieties == False:\n",
    "                for id_ud, ud in UD_dual_organization.uds.items():\n",
    "                    for _ in range(3):\n",
    "                        ud.varieties.append(Variety())\n",
    "            else:\n",
    "                initial_varieties = [Variety() for _ in range (30)]\n",
    "                for ud in UD_dual_organization.uds.values():\n",
    "                    for _ in range(10):\n",
    "                        ud.varieties.append(random.choice(initial_varieties))\n",
    "            #### Simulation\n",
    "            for i in range (1, (t)):\n",
    "                uds_copy = {id_ud: ud for id_ud, ud in UD_dual_organization.uds.items() if ud.activa}\n",
    "                if not uds_copy:\n",
    "                    print(\"acabo\")\n",
    "                    break\n",
    "                for id_ud, ud in uds_copy.items():\n",
    "                    ud.ter_filho()\n",
    "                    ud.buscar_ud(media, inherit, True, False)\n",
    "                    ud.incrementar_idade()\n",
    "                    ud.death_probability(prob_morte)\n",
    "            print(len([ud for id, ud in uds_copy.items() if ud.activa]))\n",
    "            #Get the distribution, community diversity and mean by UD\n",
    "            total_varieties = []\n",
    "            varieties_per_UD = []\n",
    "            for ud in [ud for ud in UD_dual_organization.uds.values() if ud.activa ==True]:\n",
    "                varieties_per_UD.append(len(ud.varieties))\n",
    "                for variety in ud.varieties:\n",
    "                    total_varieties.append(variety.variety_id)\n",
    "            #mean_ud = np.mean(varieties_per_UD)\n",
    "            #diversity_comm_level = len(set(total_varieties))\n",
    "            data_dual_mean_ud.append(np.mean(varieties_per_UD))\n",
    "            data_dual_com_level.append(len(set(total_varieties)))\n",
    "            data_dual_total_varieties.append(total_varieties)\n",
    "        #data_inherit_dual[inherit] = [data_dual_mean_ud, data_dual_com_level, data_dual_total_varieties]\n",
    "        else:\n",
    "            UD_dual_organization_al_inh.uds = {}\n",
    "            instancias_ud = []\n",
    "            for id_ud in range(1, int(iniciais) + 1):\n",
    "                    instancias_ud.append(UD_dual_organization_al_inh(id_ud, media, communities.pop(), clans.pop()))\n",
    "            ## Varieties\n",
    "            limited_varieties = True\n",
    "            if limited_varieties == False:\n",
    "                for id_ud, ud in UD_dual_organization_al_inh.uds.items():\n",
    "                    for _ in range(3):\n",
    "                        ud.varieties.append(Variety())\n",
    "            else:\n",
    "                initial_varieties = [Variety() for _ in range (30)]\n",
    "                for ud in UD_dual_organization_al_inh.uds.values():\n",
    "                    for _ in range(10):\n",
    "                        ud.varieties.append(random.choice(initial_varieties))\n",
    "            #### Simulation\n",
    "            for i in range (1, (t)):\n",
    "                uds_copy = {id_ud: ud for id_ud, ud in UD_dual_organization_al_inh.uds.items() if ud.activa}\n",
    "                if not uds_copy:\n",
    "                    print(\"acabo\")\n",
    "                    break\n",
    "                # Cycle: \n",
    "                varieties_list = [var for ud in uds_copy.values() for var in ud.varieties]\n",
    "                for id_ud, ud in uds_copy.items():\n",
    "                    ud.ter_filho()\n",
    "                    ud.buscar_ud(media, varieties_list, True, False)\n",
    "                    ud.incrementar_idade()\n",
    "                    ud.death_probability(prob_morte)\n",
    "\n",
    "            print(len([ud for id, ud in uds_copy.items() if ud.activa]))\n",
    "            #Get the distribution, community diversity and mean by UD\n",
    "            total_varieties = []\n",
    "            varieties_per_UD = []\n",
    "            for ud in [ud for ud in UD_dual_organization_al_inh.uds.values() if ud.activa ==True]:\n",
    "                varieties_per_UD.append(len(ud.varieties))\n",
    "                for variety in ud.varieties:\n",
    "                    total_varieties.append(variety.variety_id)\n",
    "            #mean_ud = np.mean(varieties_per_UD)\n",
    "            #diversity_comm_level = len(set(total_varieties))\n",
    "            data_dual_mean_ud.append(np.mean(varieties_per_UD))\n",
    "            data_dual_com_level.append(len(set(total_varieties)))\n",
    "            data_dual_total_varieties.append(total_varieties)\n",
    "    data_inherit_dual[inherit] = [data_dual_mean_ud, data_dual_com_level, data_dual_total_varieties]\n",
    "# Folder\n",
    "folder_name = 'results_inheritance'\n",
    "if not os.path.exists(folder_name):\n",
    "    os.makedirs(folder_name)\n",
    "# Inherit data\n",
    "inherit_dual_path = os.path.join(folder_name, 'inherit_data_dual.json')\n",
    "# Save\n",
    "with open(inherit_dual_path, 'w') as json_file:\n",
    "    json.dump(data_inherit_dual, json_file, indent=4)\n",
    "# Confirmation message\n",
    "print(\"Data saved successfully to\", inherit_dual_path)"
   ]
  },
  {
   "cell_type": "code",
   "execution_count": 23,
   "id": "b87a7385",
   "metadata": {},
   "outputs": [],
   "source": [
    "# Load\n",
    "with open(inherit_dual_path, 'r') as json_file:\n",
    "        loaded_data_inherit_dual = json.load(json_file)"
   ]
  },
  {
   "cell_type": "code",
   "execution_count": 25,
   "id": "cedb3242",
   "metadata": {},
   "outputs": [
    {
     "data": {
      "image/png": "[encoded data removed]",
      "text/plain": [
       "<Figure size 432x288 with 1 Axes>"
      ]
     },
     "metadata": {
      "needs_background": "light"
     },
     "output_type": "display_data"
    }
   ],
   "source": [
    "## Data and plot\n",
    "mean_div_com = []\n",
    "std_div_com = []\n",
    "inheritance = ['0','25','50','75','100', 'False']\n",
    "for i in inheritance:\n",
    "    #print(i)\n",
    "    mean_div_com.append(np.mean(loaded_data_inherit_dual[i][1]))\n",
    "    std_div_com.append(np.std(loaded_data_inherit_dual[i][1]))\n",
    "#Plot\n",
    "inheritance_possibilities = ['0','25','50','75','100', 'Aleatory']\n",
    "plt.errorbar(inheritance_possibilities, mean_div_com, yerr=std_div_com, fmt='o', capsize=5, capthick=2, ecolor='red', label='Data with Error Bars')\n",
    "plt.xlabel('Percentage of matrilineal inheritance')\n",
    "plt.ylabel('Mean')\n",
    "plt.title('Diversity at the community level with dual organization')\n",
    "plt.legend()\n",
    "plt.grid(True)\n",
    "plt.show()"
   ]
  },
  {
   "cell_type": "code",
   "execution_count": 25,
   "id": "6af2fbfc",
   "metadata": {
    "collapsed": true
   },
   "outputs": [
    {
     "data": {
      "image/png": "[encoded data removed]",
      "text/plain": [
       "<Figure size 432x288 with 1 Axes>"
      ]
     },
     "metadata": {
      "needs_background": "light"
     },
     "output_type": "display_data"
    }
   ],
   "source": []
  },
  {
   "cell_type": "markdown",
   "id": "a8e006c5",
   "metadata": {},
   "source": [
    "## Restricted"
   ]
  },
  {
   "cell_type": "code",
   "execution_count": 26,
   "id": "4f4eca69",
   "metadata": {},
   "outputs": [
    {
     "name": "stdout",
     "output_type": "stream",
     "text": [
      "Experiments with inheritance 0\n",
      "98\n",
      "81\n",
      "Experiments with inheritance 25\n",
      "113\n",
      "79\n",
      "Experiments with inheritance 50\n",
      "109\n",
      "189\n",
      "Experiments with inheritance 75\n",
      "106\n",
      "67\n",
      "Experiments with inheritance 100\n",
      "37\n",
      "49\n",
      "Experiments with inheritance False\n",
      "119\n",
      "142\n",
      "Data saved successfully to results_inheritance\\inherit_data_restricted.json\n"
     ]
    }
   ],
   "source": [
    "#UD_restricted\n",
    "#Parameters restricted_exchange\n",
    "experiments = 2\n",
    "iniciais = 30 # Initial UD\n",
    "prob_morte = 0.06 # Beta from the gutertz equation\n",
    "media = 4 # Average children per UD\n",
    "#random.seed(42) # Random seed\n",
    "t = 201 #steps of the simulation\n",
    "inheritance = [0,25,50,75,100, 'False']\n",
    "data_inherit_restricted = {}\n",
    "for inherit in inheritance:\n",
    "    print(f\"Experiments with inheritance {inherit}\")\n",
    "    data_restricted_mean_ud = []\n",
    "    data_restricted_com_level = []\n",
    "    data_restricted_total_varieties = []\n",
    "    for exp in range (1, experiments+1):\n",
    "        #### Initialization restricted_exchange\n",
    "        ## Communities\n",
    "        clans = (list(range(1, 3 + 1)) * (iniciais // 3)) # Just 3 clans\n",
    "        communities = (list(range(1, 2 + 1)) * (iniciais // 2)) # Just 2 communities\n",
    "        random.shuffle(clans)\n",
    "        random.shuffle(communities)\n",
    "        if inherit != 'False':\n",
    "            UD_restricted.uds = {}\n",
    "            instancias_ud = []\n",
    "            for id_ud in range(1, int(iniciais) + 1):\n",
    "                    instancias_ud.append(UD_restricted(id_ud, media, communities.pop(), clans.pop()))\n",
    "            ## Varieties\n",
    "            limited_varieties = True\n",
    "            if limited_varieties == False:\n",
    "                for id_ud, ud in UD_restricted.uds.items():\n",
    "                    for _ in range(3):\n",
    "                        ud.varieties.append(Variety())\n",
    "            else:\n",
    "                initial_varieties = [Variety() for _ in range (30)]\n",
    "                for ud in UD_restricted.uds.values():\n",
    "                    for _ in range(10):\n",
    "                        ud.varieties.append(random.choice(initial_varieties))\n",
    "            #### Simulation\n",
    "            for i in range (1, (t)):\n",
    "                uds_copy = {id_ud: ud for id_ud, ud in UD_restricted.uds.items() if ud.activa}\n",
    "                if not uds_copy:\n",
    "                    print(\"acabo\")\n",
    "                    break\n",
    "                for id_ud, ud in uds_copy.items():\n",
    "                    ud.ter_filho()\n",
    "                    ud.buscar_ud(media, inherit, True, False)\n",
    "                    ud.incrementar_idade()\n",
    "                    ud.death_probability(prob_morte)\n",
    "\n",
    "            print(len([ud for id, ud in uds_copy.items() if ud.activa]))\n",
    "            #Get the distribution, community diversity and mean by UD\n",
    "            total_varieties = []\n",
    "            varieties_per_UD = []\n",
    "            for ud in [ud for ud in UD_restricted.uds.values() if ud.activa ==True]:\n",
    "                varieties_per_UD.append(len(ud.varieties))\n",
    "                for variety in ud.varieties:\n",
    "                    total_varieties.append(variety.variety_id)\n",
    "            #mean_ud = np.mean(varieties_per_UD)\n",
    "            #diversity_comm_level = len(set(total_varieties))\n",
    "            data_restricted_mean_ud.append(np.mean(varieties_per_UD))\n",
    "            data_restricted_com_level.append(len(set(total_varieties)))\n",
    "            data_restricted_total_varieties.append(total_varieties)\n",
    "        #data_inherit_restricted[inherit] = [data_restricted_mean_ud, data_restricted_com_level, data_restricted_total_varieties]\n",
    "        else:\n",
    "            UD_restricted_al_inh.uds = {}\n",
    "            instancias_ud = []\n",
    "            for id_ud in range(1, int(iniciais) + 1):\n",
    "                    instancias_ud.append(UD_restricted_al_inh(id_ud, media, communities.pop(), clans.pop()))\n",
    "            ## Varieties\n",
    "            limited_varieties = True\n",
    "            if limited_varieties == False:\n",
    "                for id_ud, ud in UD_restricted_al_inh.uds.items():\n",
    "                    for _ in range(3):\n",
    "                        ud.varieties.append(Variety())\n",
    "            else:\n",
    "                initial_varieties = [Variety() for _ in range (10)]\n",
    "                for ud in UD_restricted_al_inh.uds.values():\n",
    "                    for _ in range(3):\n",
    "                        ud.varieties.append(random.choice(initial_varieties))\n",
    "            #### Simulation\n",
    "            for i in range (1, (t)):\n",
    "                uds_copy = {id_ud: ud for id_ud, ud in UD_restricted_al_inh.uds.items() if ud.activa}\n",
    "                if not uds_copy:\n",
    "                    print(\"acabo\")\n",
    "                    break\n",
    "                # Cycle: \n",
    "                varieties_list = [var for ud in uds_copy.values() for var in ud.varieties]\n",
    "                for id_ud, ud in uds_copy.items():\n",
    "                    ud.ter_filho()\n",
    "                    ud.buscar_ud(media, varieties_list, True, False)\n",
    "                    ud.incrementar_idade()\n",
    "                    ud.death_probability(prob_morte)\n",
    "            print(len([ud for id, ud in uds_copy.items() if ud.activa]))\n",
    "            #Get the distribution, community diversity and mean by UD\n",
    "            total_varieties = []\n",
    "            varieties_per_UD = []\n",
    "            for ud in [ud for ud in UD_restricted_al_inh.uds.values() if ud.activa ==True]:\n",
    "                varieties_per_UD.append(len(ud.varieties))\n",
    "                for variety in ud.varieties:\n",
    "                    total_varieties.append(variety.variety_id)\n",
    "            #mean_ud = np.mean(varieties_per_UD)\n",
    "            #diversity_comm_level = len(set(total_varieties))\n",
    "            data_restricted_mean_ud.append(np.mean(varieties_per_UD))\n",
    "            data_restricted_com_level.append(len(set(total_varieties)))\n",
    "            data_restricted_total_varieties.append(total_varieties)\n",
    "        data_inherit_restricted[inherit] = [data_restricted_mean_ud, data_restricted_com_level, data_restricted_total_varieties]\n",
    "# Folder\n",
    "folder_name = 'results_inheritance'\n",
    "if not os.path.exists(folder_name):\n",
    "    os.makedirs(folder_name)\n",
    "# Inherit data\n",
    "inherit_restricted_path = os.path.join(folder_name, 'inherit_data_restricted.json')\n",
    "# Save\n",
    "with open(inherit_restricted_path, 'w') as json_file:\n",
    "    json.dump(data_inherit_restricted, json_file, indent=4)\n",
    "# Confirmation message\n",
    "print(\"Data saved successfully to\", inherit_restricted_path)"
   ]
  },
  {
   "cell_type": "code",
   "execution_count": 27,
   "id": "f7f6c68a",
   "metadata": {},
   "outputs": [],
   "source": [
    "# Load\n",
    "with open(inherit_restricted_path, 'r') as json_file:\n",
    "        loaded_data_inherit_restricted = json.load(json_file)"
   ]
  },
  {
   "cell_type": "code",
   "execution_count": 28,
   "id": "19010b89",
   "metadata": {},
   "outputs": [
    {
     "data": {
      "image/png": "[encoded data removed]",
      "text/plain": [
       "<Figure size 432x288 with 1 Axes>"
      ]
     },
     "metadata": {
      "needs_background": "light"
     },
     "output_type": "display_data"
    }
   ],
   "source": [
    "## Data and plot\n",
    "mean_div_com = []\n",
    "std_div_com = []\n",
    "inheritance = ['0','25','50','75','100', 'False']\n",
    "for i in inheritance:\n",
    "    #print(i)\n",
    "    mean_div_com.append(np.mean(loaded_data_inherit_restricted[i][1]))\n",
    "    std_div_com.append(np.std(loaded_data_inherit_restricted[i][1]))\n",
    "#Plot\n",
    "inheritance_possibilities = ['0','25','50','75','100', 'Aleatory']\n",
    "plt.errorbar(inheritance_possibilities, mean_div_com, yerr=std_div_com, fmt='o', capsize=5, capthick=2, ecolor='red', label='Data with Error Bars')\n",
    "plt.xlabel('Percentage of matrilineal inheritance')\n",
    "plt.ylabel('Mean')\n",
    "plt.title('Diversity at the community level with restricted exchange')\n",
    "plt.legend()\n",
    "plt.grid(True)\n",
    "plt.show()"
   ]
  },
  {
   "cell_type": "markdown",
   "id": "c75c10e6",
   "metadata": {},
   "source": [
    "## To visualize all of them at the same time"
   ]
  },
  {
   "cell_type": "code",
   "execution_count": 29,
   "id": "77ee25ab",
   "metadata": {},
   "outputs": [
    {
     "data": {
      "image/png": "[encoded data removed]",
      "text/plain": [
       "<Figure size 432x288 with 1 Axes>"
      ]
     },
     "metadata": {
      "needs_background": "light"
     },
     "output_type": "display_data"
    }
   ],
   "source": [
    "# Lists\n",
    "mean_div_com_restricted = []\n",
    "std_div_com_restricted = []\n",
    "mean_div_com_dual = []\n",
    "std_div_com_dual = []\n",
    "mean_div_com_endo = []\n",
    "std_div_com_endo = []\n",
    "inheritance = ['0','25','50','75','100', 'False']\n",
    "# Mean and std\n",
    "for i in inheritance:\n",
    "    mean_div_com_restricted.append(np.mean(loaded_data_inherit_restricted[i][1]))\n",
    "    std_div_com_restricted.append(np.std(loaded_data_inherit_restricted[i][1]))\n",
    "    mean_div_com_dual.append(np.mean(loaded_data_inherit_dual[i][1]))\n",
    "    std_div_com_dual.append(np.std(loaded_data_inherit_dual[i][1]))\n",
    "    mean_div_com_endo.append(np.mean(loaded_data_inherit_endo[i][1]))\n",
    "    std_div_com_endo.append(np.std(loaded_data_inherit_endo[i][1]))\n",
    "\n",
    "inheritance_possibilities = ['0','25','50','75','100', 'Aleatory']\n",
    "#Plot\n",
    "plt.errorbar(inheritance_possibilities, mean_div_com_restricted, yerr=std_div_com_restricted, fmt='o', capsize=5, capthick=2, ecolor='red', label='Restricted')\n",
    "plt.errorbar(inheritance_possibilities, mean_div_com_dual, yerr=std_div_com_dual, fmt='s', capsize=5, capthick=2, ecolor='blue', label='Dual Organization')\n",
    "plt.errorbar(inheritance_possibilities, mean_div_com_endo, yerr=std_div_com_endo, fmt='^', capsize=5, capthick=2, ecolor='green', label='Endogamy')\n",
    "plt.xlabel('Percentage of matrilineal inheritance')\n",
    "plt.ylabel('Mean')\n",
    "plt.title('Diversity at the community level')\n",
    "plt.legend()\n",
    "plt.grid(True)\n",
    "plt.show()"
   ]
  },
  {
   "cell_type": "code",
   "execution_count": null,
   "id": "99fc8b88",
   "metadata": {},
   "outputs": [],
   "source": []
  },
  {
   "cell_type": "code",
   "execution_count": null,
   "id": "09261a04",
   "metadata": {},
   "outputs": [],
   "source": []
  },
  {
   "cell_type": "markdown",
   "id": "7cbfa9ec",
   "metadata": {},
   "source": [
    "# With inheritance"
   ]
  },
  {
   "cell_type": "markdown",
   "id": "049a9849",
   "metadata": {},
   "source": [
    "## Endogamy"
   ]
  },
  {
   "cell_type": "code",
   "execution_count": 8,
   "id": "5dd47bad",
   "metadata": {
    "collapsed": true
   },
   "outputs": [
    {
     "name": "stdout",
     "output_type": "stream",
     "text": [
      "65\n",
      "124\n",
      "21\n",
      "139\n",
      "57\n",
      "113\n",
      "92\n",
      "145\n",
      "134\n",
      "84\n",
      "100\n",
      "89\n",
      "91\n",
      "147\n"
     ]
    }
   ],
   "source": [
    "#ENDOGAMY \n",
    "#Parameters endogamy\n",
    "experiments = 2\n",
    "iniciais = 30 # Initial UD\n",
    "prob_morte = 0.06 # Beta from the gutertz equation\n",
    "media = 4 # Average children per UD\n",
    "random.seed(42) # Random seed\n",
    "t = 201 #steps of the simulation\n",
    "inheritance = [100,90,80,70,60,50, False]\n",
    "# For the data\n",
    "# data_endo_mean_ud = []\n",
    "# data_endo_com_level = []\n",
    "# data_endo_total_varieties = []\n",
    "data_inherit_endo = {}\n",
    "for inherit in inheritance:\n",
    "    data_endo_mean_ud = []\n",
    "    data_endo_com_level = []\n",
    "    data_endo_total_varieties = []\n",
    "    for exp in range(1, experiments+1):\n",
    "        #### Initialization endogamy\n",
    "        ## Communities\n",
    "        communities = (list(range(1, 2 + 1)) * (iniciais // 2)) # Just 2 communities\n",
    "        random.shuffle(communities)\n",
    "        UD_endogamy.uds = {}\n",
    "        instancias_ud = []\n",
    "        for id_ud in range(1, int(iniciais) + 1):\n",
    "                instancias_ud.append(UD_endogamy(id_ud, media, communities.pop()))\n",
    "        ## Varieties\n",
    "        limited_varieties = True\n",
    "        if limited_varieties == False:\n",
    "            for id_ud, ud in UD_endogamy.uds.items():\n",
    "                for _ in range(3):\n",
    "                    ud.varieties.append(Variety())\n",
    "        else:\n",
    "            initial_varieties = [Variety() for _ in range (10)]\n",
    "            for ud in UD_endogamy.uds.values():\n",
    "                for _ in range(3):\n",
    "                    ud.varieties.append(random.choice(initial_varieties))\n",
    "        #### Simulation endogamy\n",
    "        for i in range (1, (t)):\n",
    "            uds_copy = {id_ud: ud for id_ud, ud in UD_endogamy.uds.items() if ud.activa}\n",
    "            if not uds_copy:\n",
    "                print(\"acabo\")\n",
    "                break\n",
    "            # Cycle: \n",
    "            for id_ud, ud in uds_copy.items():\n",
    "                ud.ter_filho()\n",
    "                ud.buscar_ud(media, inherit, True)\n",
    "                ud.incrementar_idade()\n",
    "                ud.death_probability(prob_morte)      \n",
    "        print(len([ud for id, ud in uds_copy.items() if ud.activa]))\n",
    "        #Get the distribution, community diversity and mean by UD\n",
    "        total_varieties = []\n",
    "        varieties_per_UD = []\n",
    "        for ud in [ud for ud in UD_endogamy.uds.values() if ud.activa ==True]:\n",
    "            varieties_per_UD.append(len(ud.varieties))\n",
    "            for variety in ud.varieties:\n",
    "                total_varieties.append(variety.variety_id)\n",
    "        #mean_ud = np.mean(varieties_per_UD)\n",
    "        #diversity_comm_level = len(set(total_varieties))\n",
    "        data_endo_mean_ud.append(np.mean(varieties_per_UD))\n",
    "        data_endo_com_level.append(len(set(total_varieties)))\n",
    "        data_endo_total_varieties.append(total_varieties)\n",
    "    data_inherit_endo[inherit] = [data_endo_mean_ud, data_endo_com_level, data_endo_total_varieties]"
   ]
  },
  {
   "cell_type": "code",
   "execution_count": 78,
   "id": "3220fa93",
   "metadata": {},
   "outputs": [
    {
     "data": {
      "text/plain": [
       "6"
      ]
     },
     "execution_count": 78,
     "metadata": {},
     "output_type": "execute_result"
    }
   ],
   "source": [
    "data[8][2]"
   ]
  },
  {
   "cell_type": "code",
   "execution_count": 86,
   "id": "e93730a4",
   "metadata": {
    "collapsed": true
   },
   "outputs": [
    {
     "data": {
      "image/png": "[encoded data removed]",
      "text/plain": [
       "<Figure size 432x288 with 1 Axes>"
      ]
     },
     "metadata": {
      "needs_background": "light"
     },
     "output_type": "display_data"
    },
    {
     "name": "stdout",
     "output_type": "stream",
     "text": [
      "Diversity at the community level: 7 \n",
      "The mean of varieties by UD is: 4.0\n"
     ]
    },
    {
     "data": {
      "image/png": "[encoded data removed]",
      "text/plain": [
       "<Figure size 432x288 with 1 Axes>"
      ]
     },
     "metadata": {
      "needs_background": "light"
     },
     "output_type": "display_data"
    },
    {
     "name": "stdout",
     "output_type": "stream",
     "text": [
      "Diversity at the community level: 6 \n",
      "The mean of varieties by UD is: 4.0\n"
     ]
    },
    {
     "data": {
      "image/png": "[encoded data removed]",
      "text/plain": [
       "<Figure size 432x288 with 1 Axes>"
      ]
     },
     "metadata": {
      "needs_background": "light"
     },
     "output_type": "display_data"
    },
    {
     "name": "stdout",
     "output_type": "stream",
     "text": [
      "Diversity at the community level: 7 \n",
      "The mean of varieties by UD is: 4.0\n"
     ]
    },
    {
     "data": {
      "image/png": "[encoded data removed]",
      "text/plain": [
       "<Figure size 432x288 with 1 Axes>"
      ]
     },
     "metadata": {
      "needs_background": "light"
     },
     "output_type": "display_data"
    },
    {
     "name": "stdout",
     "output_type": "stream",
     "text": [
      "Diversity at the community level: 7 \n",
      "The mean of varieties by UD is: 4.0\n"
     ]
    },
    {
     "data": {
      "image/png": "[encoded data removed]",
      "text/plain": [
       "<Figure size 432x288 with 1 Axes>"
      ]
     },
     "metadata": {
      "needs_background": "light"
     },
     "output_type": "display_data"
    },
    {
     "name": "stdout",
     "output_type": "stream",
     "text": [
      "Diversity at the community level: 10 \n",
      "The mean of varieties by UD is: 4.0\n"
     ]
    },
    {
     "data": {
      "image/png": "[encoded data removed]",
      "text/plain": [
       "<Figure size 432x288 with 1 Axes>"
      ]
     },
     "metadata": {
      "needs_background": "light"
     },
     "output_type": "display_data"
    },
    {
     "name": "stdout",
     "output_type": "stream",
     "text": [
      "Diversity at the community level: 8 \n",
      "The mean of varieties by UD is: 4.0\n"
     ]
    },
    {
     "data": {
      "image/png": "[encoded data removed]",
      "text/plain": [
       "<Figure size 432x288 with 1 Axes>"
      ]
     },
     "metadata": {
      "needs_background": "light"
     },
     "output_type": "display_data"
    },
    {
     "name": "stdout",
     "output_type": "stream",
     "text": [
      "Diversity at the community level: 10 \n",
      "The mean of varieties by UD is: 4.0\n"
     ]
    },
    {
     "data": {
      "image/png": "[encoded data removed]",
      "text/plain": [
       "<Figure size 432x288 with 1 Axes>"
      ]
     },
     "metadata": {
      "needs_background": "light"
     },
     "output_type": "display_data"
    },
    {
     "name": "stdout",
     "output_type": "stream",
     "text": [
      "Diversity at the community level: 7 \n",
      "The mean of varieties by UD is: 4.0\n"
     ]
    },
    {
     "data": {
      "image/png": "[encoded data removed]",
      "text/plain": [
       "<Figure size 432x288 with 1 Axes>"
      ]
     },
     "metadata": {
      "needs_background": "light"
     },
     "output_type": "display_data"
    },
    {
     "name": "stdout",
     "output_type": "stream",
     "text": [
      "Diversity at the community level: 6 \n",
      "The mean of varieties by UD is: 4.0\n"
     ]
    },
    {
     "data": {
      "image/png": "[encoded data removed]",
      "text/plain": [
       "<Figure size 432x288 with 1 Axes>"
      ]
     },
     "metadata": {
      "needs_background": "light"
     },
     "output_type": "display_data"
    },
    {
     "name": "stdout",
     "output_type": "stream",
     "text": [
      "Diversity at the community level: 8 \n",
      "The mean of varieties by UD is: 4.0\n"
     ]
    }
   ],
   "source": [
    "for data in data.values():\n",
    "    total_varieties = data[0]\n",
    "    total_varieties = [str(x) for x in total_varieties]\n",
    "    varieties_counts = Counter(total_varieties)\n",
    "    varieties_counts = sorted(varieties_counts.items(), key=lambda x: x[1], reverse=True)\n",
    "    varieties, counts = zip(*varieties_counts)\n",
    "    # Plot\n",
    "    plt.bar(varieties, counts)\n",
    "    plt.xlabel(\"Varieties id\")\n",
    "    plt.ylabel(\"Frequency\")\n",
    "    plt.xticks(rotation=45, ha='right')\n",
    "    plt.title(\"Frequency Distribution of Varieties\")\n",
    "    plt.show()\n",
    "    print(f\"Diversity at the community level: {(data[2])} \")\n",
    "    print(f\"The mean of varieties by UD is: {data[1]}\")"
   ]
  },
  {
   "cell_type": "code",
   "execution_count": null,
   "id": "5121d36d",
   "metadata": {},
   "outputs": [],
   "source": [
    "for i in listas:\n",
    "    total_varieties = [str(x) for x in total_varieties]\n",
    "    varieties_counts = Counter(total_varieties)\n",
    "    varieties_counts = sorted(varieties_counts.items(), key=lambda x: x[1], reverse=True)\n",
    "    varieties, counts = zip(*varieties_counts)\n",
    "    # Plot\n",
    "    plt.bar(varieties, counts)\n",
    "    plt.xlabel(\"Varieties id\")\n",
    "    plt.ylabel(\"Frequency\")\n",
    "    plt.xticks(rotation=45, ha='right')\n",
    "    plt.title(\"Frequency Distribution of Varieties\")\n",
    "    plt.show()\n",
    "    print(f\"Diversity at the community level: {len(diversity_comm_level)} \")\n",
    "    print(f\"The mean of varieties by UD is: {np.mean(varieties_per_UD)}\")"
   ]
  },
  {
   "cell_type": "code",
   "execution_count": 42,
   "id": "f45e146d",
   "metadata": {},
   "outputs": [
    {
     "data": {
      "image/png": "[encoded data removed]",
      "text/plain": [
       "<Figure size 432x288 with 1 Axes>"
      ]
     },
     "metadata": {
      "needs_background": "light"
     },
     "output_type": "display_data"
    }
   ],
   "source": [
    "# Visualization\n",
    "distributions = [total_varieties]\n",
    "for dist in distributions:\n",
    "    plt.hist(dist, bins=10, alpha=0.5, density=True)\n",
    "plt.title(\"Distributions from Multiple Runs\")\n",
    "plt.xlabel(\"Value\")\n",
    "plt.ylabel(\"Frequency\")\n",
    "plt.show()"
   ]
  },
  {
   "cell_type": "code",
   "execution_count": 32,
   "id": "c9db55f2",
   "metadata": {
    "collapsed": true
   },
   "outputs": [
    {
     "ename": "AttributeError",
     "evalue": "module 'scipy.spatial.distance' has no attribute 'entropy'",
     "output_type": "error",
     "traceback": [
      "\u001b[1;31m---------------------------------------------------------------------------\u001b[0m",
      "\u001b[1;31mAttributeError\u001b[0m                            Traceback (most recent call last)",
      "\u001b[1;32m~\\AppData\\Local\\Temp/ipykernel_20412/1780288949.py\u001b[0m in \u001b[0;36m<module>\u001b[1;34m\u001b[0m\n\u001b[0;32m     19\u001b[0m \u001b[1;32mfor\u001b[0m \u001b[0mi\u001b[0m \u001b[1;32min\u001b[0m \u001b[0mrange\u001b[0m\u001b[1;33m(\u001b[0m\u001b[0mnum_runs\u001b[0m\u001b[1;33m)\u001b[0m\u001b[1;33m:\u001b[0m\u001b[1;33m\u001b[0m\u001b[1;33m\u001b[0m\u001b[0m\n\u001b[0;32m     20\u001b[0m     \u001b[1;32mfor\u001b[0m \u001b[0mj\u001b[0m \u001b[1;32min\u001b[0m \u001b[0mrange\u001b[0m\u001b[1;33m(\u001b[0m\u001b[0mi\u001b[0m \u001b[1;33m+\u001b[0m \u001b[1;36m1\u001b[0m\u001b[1;33m,\u001b[0m \u001b[0mnum_runs\u001b[0m\u001b[1;33m)\u001b[0m\u001b[1;33m:\u001b[0m\u001b[1;33m\u001b[0m\u001b[1;33m\u001b[0m\u001b[0m\n\u001b[1;32m---> 21\u001b[1;33m         \u001b[0mjs_div\u001b[0m \u001b[1;33m=\u001b[0m \u001b[0mjs_divergence\u001b[0m\u001b[1;33m(\u001b[0m\u001b[0mdistributions\u001b[0m\u001b[1;33m[\u001b[0m\u001b[0mi\u001b[0m\u001b[1;33m]\u001b[0m\u001b[1;33m,\u001b[0m \u001b[0mdistributions\u001b[0m\u001b[1;33m[\u001b[0m\u001b[0mj\u001b[0m\u001b[1;33m]\u001b[0m\u001b[1;33m)\u001b[0m\u001b[1;33m\u001b[0m\u001b[1;33m\u001b[0m\u001b[0m\n\u001b[0m\u001b[0;32m     22\u001b[0m         \u001b[0mjs_divergences\u001b[0m\u001b[1;33m[\u001b[0m\u001b[0mi\u001b[0m\u001b[1;33m,\u001b[0m \u001b[0mj\u001b[0m\u001b[1;33m]\u001b[0m \u001b[1;33m=\u001b[0m \u001b[0mjs_divergences\u001b[0m\u001b[1;33m[\u001b[0m\u001b[0mj\u001b[0m\u001b[1;33m,\u001b[0m \u001b[0mi\u001b[0m\u001b[1;33m]\u001b[0m \u001b[1;33m=\u001b[0m \u001b[0mjs_div\u001b[0m\u001b[1;33m\u001b[0m\u001b[1;33m\u001b[0m\u001b[0m\n\u001b[0;32m     23\u001b[0m \u001b[1;33m\u001b[0m\u001b[0m\n",
      "\u001b[1;32m~\\AppData\\Local\\Temp/ipykernel_20412/1780288949.py\u001b[0m in \u001b[0;36mjs_divergence\u001b[1;34m(p, q)\u001b[0m\n\u001b[0;32m      7\u001b[0m     \u001b[0mq\u001b[0m \u001b[1;33m=\u001b[0m \u001b[0mnp\u001b[0m\u001b[1;33m.\u001b[0m\u001b[0marray\u001b[0m\u001b[1;33m(\u001b[0m\u001b[0mq\u001b[0m\u001b[1;33m)\u001b[0m\u001b[1;33m\u001b[0m\u001b[1;33m\u001b[0m\u001b[0m\n\u001b[0;32m      8\u001b[0m     \u001b[0mm\u001b[0m \u001b[1;33m=\u001b[0m \u001b[1;36m0.5\u001b[0m \u001b[1;33m*\u001b[0m \u001b[1;33m(\u001b[0m\u001b[0mp\u001b[0m \u001b[1;33m+\u001b[0m \u001b[0mq\u001b[0m\u001b[1;33m)\u001b[0m\u001b[1;33m\u001b[0m\u001b[1;33m\u001b[0m\u001b[0m\n\u001b[1;32m----> 9\u001b[1;33m     \u001b[1;32mreturn\u001b[0m \u001b[1;36m0.5\u001b[0m \u001b[1;33m*\u001b[0m \u001b[1;33m(\u001b[0m\u001b[0mdistance\u001b[0m\u001b[1;33m.\u001b[0m\u001b[0mentropy\u001b[0m\u001b[1;33m(\u001b[0m\u001b[0mp\u001b[0m\u001b[1;33m,\u001b[0m \u001b[0mm\u001b[0m\u001b[1;33m)\u001b[0m \u001b[1;33m+\u001b[0m \u001b[0mdistance\u001b[0m\u001b[1;33m.\u001b[0m\u001b[0mentropy\u001b[0m\u001b[1;33m(\u001b[0m\u001b[0mq\u001b[0m\u001b[1;33m,\u001b[0m \u001b[0mm\u001b[0m\u001b[1;33m)\u001b[0m\u001b[1;33m)\u001b[0m\u001b[1;33m\u001b[0m\u001b[1;33m\u001b[0m\u001b[0m\n\u001b[0m\u001b[0;32m     10\u001b[0m \u001b[1;33m\u001b[0m\u001b[0m\n\u001b[0;32m     11\u001b[0m \u001b[1;31m# Generate 5 random distributions for demonstration\u001b[0m\u001b[1;33m\u001b[0m\u001b[1;33m\u001b[0m\u001b[1;33m\u001b[0m\u001b[0m\n",
      "\u001b[1;31mAttributeError\u001b[0m: module 'scipy.spatial.distance' has no attribute 'entropy'"
     ]
    }
   ],
   "source": [
    "import numpy as np\n",
    "from scipy.spatial import distance\n",
    "import matplotlib.pyplot as plt\n",
    "\n",
    "def js_divergence(p, q):\n",
    "    p = np.array(p)\n",
    "    q = np.array(q)\n",
    "    m = 0.5 * (p + q)\n",
    "    return 0.5 * (distance.entropy(p, m) + distance.entropy(q, m))\n",
    "\n",
    "# Generate 5 random distributions for demonstration\n",
    "np.random.seed(42)  # for reproducibility\n",
    "distributions = [np.random.dirichlet(np.ones(10), size=1)[0] for _ in range(5)]\n",
    "\n",
    "# Compute pairwise JS divergence\n",
    "num_runs = len(distributions)\n",
    "js_divergences = np.zeros((num_runs, num_runs))\n",
    "\n",
    "for i in range(num_runs):\n",
    "    for j in range(i + 1, num_runs):\n",
    "        js_div = js_divergence(distributions[i], distributions[j])\n",
    "        js_divergences[i, j] = js_divergences[j, i] = js_div\n",
    "\n",
    "# Compute mean and std of JS divergence\n",
    "js_mean = np.mean(js_divergences[np.triu_indices(num_runs, 1)])\n",
    "js_std = np.std(js_divergences[np.triu_indices(num_runs, 1)])\n",
    "\n",
    "print(f\"JS Divergence - Mean: {js_mean}, Std Dev: {js_std}\")\n",
    "\n",
    "# Visualization\n",
    "for dist in distributions:\n",
    "    plt.hist(dist, bins=10, alpha=0.5, density=True)\n",
    "plt.title(\"Distributions from Multiple Runs\")\n",
    "plt.xlabel(\"Value\")\n",
    "plt.ylabel(\"Frequency\")\n",
    "plt.show()\n"
   ]
  },
  {
   "cell_type": "code",
   "execution_count": 41,
   "id": "54b8ee27",
   "metadata": {},
   "outputs": [
    {
     "name": "stdout",
     "output_type": "stream",
     "text": [
      "JS Divergence - Mean: 0.20066710811089922, Std Dev: 0.09502681395927864\n"
     ]
    },
    {
     "data": {
      "image/png": "[encoded data removed]",
      "text/plain": [
       "<Figure size 432x288 with 1 Axes>"
      ]
     },
     "metadata": {
      "needs_background": "light"
     },
     "output_type": "display_data"
    }
   ],
   "source": [
    "import numpy as np\n",
    "from scipy.stats import entropy\n",
    "import matplotlib.pyplot as plt\n",
    "\n",
    "def js_divergence(p, q):\n",
    "    p = np.array(p)\n",
    "    q = np.array(q)\n",
    "    m = 0.5 * (p + q)\n",
    "    return 0.5 * (entropy(p, m) + entropy(q, m))\n",
    "\n",
    "# Generate 5 random distributions for demonstration\n",
    "np.random.seed(42)  # for reproducibility\n",
    "distributions = [np.random.dirichlet(np.ones(10), size=1)[0] for _ in range(5)]\n",
    "\n",
    "# Compute pairwise JS divergence\n",
    "num_runs = len(distributions)\n",
    "js_divergences = np.zeros((num_runs, num_runs))\n",
    "\n",
    "for i in range(num_runs):\n",
    "    for j in range(i + 1, num_runs):\n",
    "        js_div = js_divergence(distributions[i], distributions[j])\n",
    "        js_divergences[i, j] = js_divergences[j, i] = js_div\n",
    "\n",
    "# Compute mean and std of JS divergence\n",
    "js_mean = np.mean(js_divergences[np.triu_indices(num_runs, 1)])\n",
    "js_std = np.std(js_divergences[np.triu_indices(num_runs, 1)])\n",
    "\n",
    "print(f\"JS Divergence - Mean: {js_mean}, Std Dev: {js_std}\")\n",
    "\n",
    "# Visualization\n",
    "for dist in distributions:\n",
    "    plt.hist(dist, bins=10, alpha=0.5, density=True)\n",
    "plt.title(\"Distributions from Multiple Runs\")\n",
    "plt.xlabel(\"Value\")\n",
    "plt.ylabel(\"Frequency\")\n",
    "plt.show()"
   ]
  },
  {
   "cell_type": "code",
   "execution_count": 40,
   "id": "3827ea60",
   "metadata": {},
   "outputs": [
    {
     "name": "stdout",
     "output_type": "stream",
     "text": [
      "JS Divergence - Mean: 0.01646442802981223, Std Dev: 0.0048869733124836424\n"
     ]
    },
    {
     "data": {
      "image/png": "[encoded data removed]",
      "text/plain": [
       "<Figure size 432x288 with 1 Axes>"
      ]
     },
     "metadata": {
      "needs_background": "light"
     },
     "output_type": "display_data"
    },
    {
     "name": "stdout",
     "output_type": "stream",
     "text": [
      "Diversity at the community level: 10\n",
      "The mean of varieties by UD is: 9.0\n"
     ]
    }
   ],
   "source": [
    "import numpy as np\n",
    "from scipy.stats import entropy\n",
    "from collections import Counter\n",
    "import matplotlib.pyplot as plt\n",
    "\n",
    "def js_divergence(p, q):\n",
    "    p = np.array(p)\n",
    "    q = np.array(q)\n",
    "    m = 0.5 * (p + q)\n",
    "    return 0.5 * (entropy(p, m) + entropy(q, m))\n",
    "\n",
    "# Generate 5 random distributions for demonstration with string identifiers\n",
    "np.random.seed(42)  # for reproducibility\n",
    "distributions = [np.random.choice(list('ABCDEFGHIJ'), size=100, p=np.random.dirichlet(np.ones(10))) for _ in range(5)]\n",
    "\n",
    "# Convert distributions to total_varieties with string identifiers\n",
    "total_varieties = [['var_' + str(x) for x in dist] for dist in distributions]\n",
    "\n",
    "# Prepare the distributions by counting and sorting frequencies\n",
    "distributions_counts = []\n",
    "for dist in total_varieties:\n",
    "    varieties_counts = Counter(dist)\n",
    "    sorted_counts = sorted(varieties_counts.values(), reverse=True)\n",
    "    distributions_counts.append(sorted_counts)\n",
    "\n",
    "# Normalize the counts\n",
    "max_length = max(len(counts) for counts in distributions_counts)\n",
    "normalized_counts = []\n",
    "for counts in distributions_counts:\n",
    "    padded_counts = counts + [0] * (max_length - len(counts))\n",
    "    normalized_counts.append(np.array(padded_counts) / sum(padded_counts))\n",
    "\n",
    "# Compute pairwise JS divergence\n",
    "num_runs = len(normalized_counts)\n",
    "js_divergences = np.zeros((num_runs, num_runs))\n",
    "\n",
    "for i in range(num_runs):\n",
    "    for j in range(i + 1, num_runs):\n",
    "        js_div = js_divergence(normalized_counts[i], normalized_counts[j])\n",
    "        js_divergences[i, j] = js_divergences[j, i] = js_div\n",
    "\n",
    "# Compute mean and std of JS divergence\n",
    "js_mean = np.mean(js_divergences[np.triu_indices(num_runs, 1)])\n",
    "js_std = np.std(js_divergences[np.triu_indices(num_runs, 1)])\n",
    "\n",
    "print(f\"JS Divergence - Mean: {js_mean}, Std Dev: {js_std}\")\n",
    "\n",
    "# Visualization of distributions\n",
    "for dist in total_varieties:\n",
    "    varieties_counts = Counter(dist)\n",
    "    varieties, counts = zip(*sorted(varieties_counts.items(), key=lambda x: x[1], reverse=True))\n",
    "    plt.bar(range(len(counts)), counts, alpha=0.5)\n",
    "\n",
    "plt.xlabel(\"Sorted Variety Index\")\n",
    "plt.ylabel(\"Frequency\")\n",
    "plt.xticks(rotation=45, ha='right')\n",
    "plt.title(\"Frequency Distribution of Varieties from Multiple Runs (Sorted)\")\n",
    "plt.show()\n",
    "\n",
    "# Example of diversity at the community level and mean of varieties per UD (User Defined)\n",
    "diversity_comm_level = set(item for sublist in total_varieties for item in sublist)\n",
    "varieties_per_UD = [len(Counter(dist)) for dist in total_varieties]\n",
    "\n",
    "print(f\"Diversity at the community level: {len(diversity_comm_level)}\")\n",
    "print(f\"The mean of varieties by UD is: {np.mean(varieties_per_UD)}\")\n"
   ]
  },
  {
   "cell_type": "markdown",
   "id": "64356337",
   "metadata": {},
   "source": [
    "## Dual organization"
   ]
  },
  {
   "cell_type": "code",
   "execution_count": 46,
   "id": "811e6626",
   "metadata": {
    "collapsed": true
   },
   "outputs": [
    {
     "name": "stdout",
     "output_type": "stream",
     "text": [
      "87\n",
      "101\n",
      "78\n",
      "24\n",
      "71\n",
      "104\n",
      "64\n",
      "80\n",
      "181\n",
      "33\n",
      "50\n",
      "50\n"
     ]
    }
   ],
   "source": [
    "#DUAL ORGANIZATION\n",
    "#Parameters dual_organization\n",
    "experiments = 2\n",
    "iniciais = 30 # Initial UD\n",
    "prob_morte = 0.06 # Beta from the gutertz equation\n",
    "media = 4 # Average children per UD\n",
    "random.seed(42) # Random seed\n",
    "t = 201 #steps of the simulation\n",
    "inheritance = [100,90,80,70,60,50]\n",
    "data_inherit_dual = {}\n",
    "for inherit in inheritance:\n",
    "    data_dual_mean_ud = []\n",
    "    data_dual_com_level = []\n",
    "    data_dual_total_varieties = []\n",
    "    for exp in range(1,experiments+1):\n",
    "        #### Initialization dual_organization\n",
    "        ## Communities\n",
    "        clans = (list(range(1, 2 + 1)) * (iniciais // 2)) # Just 2 clans\n",
    "        communities = (list(range(1, 2 + 1)) * (iniciais // 2)) # Just 2 communities\n",
    "        random.shuffle(clans)\n",
    "        random.shuffle(communities)\n",
    "        UD_dual_organization.uds = {}\n",
    "        instancias_ud = []\n",
    "        for id_ud in range(1, int(iniciais) + 1):\n",
    "                instancias_ud.append(UD_dual_organization(id_ud, media, communities.pop(), clans.pop()))\n",
    "        ## Varieties\n",
    "        limited_varieties = True\n",
    "        if limited_varieties == False:\n",
    "            for id_ud, ud in UD_dual_organization.uds.items():\n",
    "                for _ in range(3):\n",
    "                    ud.varieties.append(Variety())\n",
    "        else:\n",
    "            initial_varieties = [Variety() for _ in range (10)]\n",
    "            for ud in UD_dual_organization.uds.values():\n",
    "                for _ in range(3):\n",
    "                    ud.varieties.append(random.choice(initial_varieties))\n",
    "        #### Simulation\n",
    "        for i in range (1, (t)):\n",
    "            uds_copy = {id_ud: ud for id_ud, ud in UD_dual_organization.uds.items() if ud.activa}\n",
    "            if not uds_copy:\n",
    "                print(\"acabo\")\n",
    "                break\n",
    "            for id_ud, ud in uds_copy.items():\n",
    "                ud.ter_filho()\n",
    "                ud.buscar_ud(media, inherit, True, False)\n",
    "                ud.incrementar_idade()\n",
    "                ud.death_probability(prob_morte)\n",
    "        print(len([ud for id, ud in uds_copy.items() if ud.activa]))\n",
    "        #Get the distribution, community diversity and mean by UD\n",
    "        total_varieties = []\n",
    "        varieties_per_UD = []\n",
    "        for ud in [ud for ud in UD_dual_organization.uds.values() if ud.activa ==True]:\n",
    "            varieties_per_UD.append(len(ud.varieties))\n",
    "            for variety in ud.varieties:\n",
    "                total_varieties.append(variety.variety_id)\n",
    "        #mean_ud = np.mean(varieties_per_UD)\n",
    "        #diversity_comm_level = len(set(total_varieties))\n",
    "        data_dual_mean_ud.append(np.mean(varieties_per_UD))\n",
    "        data_dual_com_level.append(len(set(total_varieties)))\n",
    "        data_dual_total_varieties.append(total_varieties)\n",
    "    data_inherit_dual[inherit] = [data_dual_mean_ud, data_dual_com_level, data_dual_total_varieties]"
   ]
  },
  {
   "cell_type": "code",
   "execution_count": null,
   "id": "8e5c8bf4",
   "metadata": {},
   "outputs": [],
   "source": [
    "#Codigo para sacar datos y demas."
   ]
  },
  {
   "cell_type": "code",
   "execution_count": null,
   "id": "6b46fdcc",
   "metadata": {},
   "outputs": [],
   "source": []
  },
  {
   "cell_type": "code",
   "execution_count": null,
   "id": "563a0848",
   "metadata": {},
   "outputs": [],
   "source": []
  },
  {
   "cell_type": "markdown",
   "id": "1c53d324",
   "metadata": {},
   "source": [
    "## Restricted exchange"
   ]
  },
  {
   "cell_type": "code",
   "execution_count": 47,
   "id": "9b93b369",
   "metadata": {
    "collapsed": true
   },
   "outputs": [
    {
     "name": "stdout",
     "output_type": "stream",
     "text": [
      "50\n",
      "104\n",
      "48\n",
      "88\n",
      "115\n",
      "94\n",
      "91\n",
      "95\n",
      "58\n",
      "44\n",
      "150\n",
      "51\n"
     ]
    }
   ],
   "source": [
    "#UD_restricted\n",
    "#Parameters restricted_exchange\n",
    "experiments = 2\n",
    "iniciais = 30 # Initial UD\n",
    "prob_morte = 0.06 # Beta from the gutertz equation\n",
    "media = 4 # Average children per UD\n",
    "#random.seed(42) # Random seed\n",
    "t = 201 #steps of the simulation\n",
    "inheritance = [100,90,80,70,60,50]\n",
    "data_inherit_restricted = {}\n",
    "for inherit in inheritance:\n",
    "    data_restricted_mean_ud = []\n",
    "    data_restricted_com_level = []\n",
    "    data_restricted_total_varieties = []\n",
    "    for exp in range (1, experiments+1):\n",
    "        #### Initialization restricted_exchange\n",
    "        ## Communities\n",
    "        clans = (list(range(1, 3 + 1)) * (iniciais // 3)) # Just 3 clans\n",
    "        communities = (list(range(1, 2 + 1)) * (iniciais // 2)) # Just 2 communities\n",
    "        random.shuffle(clans)\n",
    "        random.shuffle(communities)\n",
    "        UD_restricted.uds = {}\n",
    "        instancias_ud = []\n",
    "        for id_ud in range(1, int(iniciais) + 1):\n",
    "                instancias_ud.append(UD_restricted(id_ud, media, communities.pop(), clans.pop()))\n",
    "        ## Varieties\n",
    "        limited_varieties = True\n",
    "        if limited_varieties == False:\n",
    "            for id_ud, ud in UD_restricted.uds.items():\n",
    "                for _ in range(3):\n",
    "                    ud.varieties.append(Variety())\n",
    "        else:\n",
    "            initial_varieties = [Variety() for _ in range (10)]\n",
    "            for ud in UD_restricted.uds.values():\n",
    "                for _ in range(3):\n",
    "                    ud.varieties.append(random.choice(initial_varieties))\n",
    "        #### Simulation\n",
    "        for i in range (1, (t)):\n",
    "            uds_copy = {id_ud: ud for id_ud, ud in UD_restricted.uds.items() if ud.activa}\n",
    "            if not uds_copy:\n",
    "                print(\"acabo\")\n",
    "                break\n",
    "            for id_ud, ud in uds_copy.items():\n",
    "                ud.ter_filho()\n",
    "                ud.buscar_ud(media, inherit, True, False)\n",
    "                ud.incrementar_idade()\n",
    "                ud.death_probability(prob_morte)\n",
    "\n",
    "        print(len([ud for id, ud in uds_copy.items() if ud.activa]))\n",
    "        #Get the distribution, community diversity and mean by UD\n",
    "        total_varieties = []\n",
    "        varieties_per_UD = []\n",
    "        for ud in [ud for ud in UD_restricted.uds.values() if ud.activa ==True]:\n",
    "            varieties_per_UD.append(len(ud.varieties))\n",
    "            for variety in ud.varieties:\n",
    "                total_varieties.append(variety.variety_id)\n",
    "        #mean_ud = np.mean(varieties_per_UD)\n",
    "        #diversity_comm_level = len(set(total_varieties))\n",
    "        data_restricted_mean_ud.append(np.mean(varieties_per_UD))\n",
    "        data_restricted_com_level.append(len(set(total_varieties)))\n",
    "        data_restricted_total_varieties.append(total_varieties)\n",
    "    data_inherit_restricted[inherit] = [data_restricted_mean_ud, data_restricted_com_level, data_restricted_total_varieties]"
   ]
  },
  {
   "cell_type": "code",
   "execution_count": null,
   "id": "8f1e2dc3",
   "metadata": {},
   "outputs": [],
   "source": []
  },
  {
   "cell_type": "code",
   "execution_count": null,
   "id": "9a7c69a9",
   "metadata": {},
   "outputs": [],
   "source": []
  },
  {
   "cell_type": "code",
   "execution_count": null,
   "id": "6115b52f",
   "metadata": {},
   "outputs": [],
   "source": []
  },
  {
   "cell_type": "markdown",
   "id": "32ddac90",
   "metadata": {},
   "source": [
    "# With aleatority"
   ]
  },
  {
   "cell_type": "markdown",
   "id": "c3353514",
   "metadata": {},
   "source": [
    "## Endogamy"
   ]
  },
  {
   "cell_type": "code",
   "execution_count": 19,
   "id": "66577e8e",
   "metadata": {},
   "outputs": [
    {
     "name": "stdout",
     "output_type": "stream",
     "text": [
      "53\n",
      "50\n"
     ]
    }
   ],
   "source": [
    "#ENDOGAMY \n",
    "#Parameters endogamy\n",
    "iniciais = 30 # Initial UD\n",
    "prob_morte = 0.06 # Beta from the gutertz equation\n",
    "media = 4 # Average children per UD\n",
    "random.seed(42) # Random seed\n",
    "t = 201 #steps of the simulation\n",
    "data_inherit_endo_al = {}\n",
    "# for inherit in inheritance:\n",
    "data_endo_al_mean_ud = []\n",
    "data_endo_al_com_level = []\n",
    "data_endo_al_total_varieties = []\n",
    "for exp in range(1, experiments+1):\n",
    "    #### Initialization endogamy\n",
    "    ## Communities\n",
    "    communities = (list(range(1, 2 + 1)) * (iniciais // 2)) # Just 2 communities\n",
    "    random.shuffle(communities)\n",
    "    UD_endogamy_al_inh.uds = {}\n",
    "    instancias_ud = []\n",
    "    for id_ud in range(1, int(iniciais) + 1):\n",
    "            instancias_ud.append(UD_endogamy_al_inh(id_ud, media, communities.pop()))\n",
    "    ## Varieties\n",
    "    limited_varieties = True\n",
    "    if limited_varieties == False:\n",
    "        for id_ud, ud in UD_endogamy_al_inh.uds.items():\n",
    "            for _ in range(3):\n",
    "                ud.varieties.append(Variety())\n",
    "    else:\n",
    "        initial_varieties = [Variety() for _ in range (10)]\n",
    "        for ud in UD_endogamy_al_inh.uds.values():\n",
    "            for _ in range(3):\n",
    "                ud.varieties.append(random.choice(initial_varieties))\n",
    "    #### Simulation endogamy\n",
    "    for i in range (1, (t)):\n",
    "        uds_copy = {id_ud: ud for id_ud, ud in UD_endogamy_al_inh.uds.items() if ud.activa}\n",
    "        if not uds_copy:\n",
    "            print(\"acabo\")\n",
    "            break\n",
    "        # Cycle: \n",
    "        varieties_list = [var for ud in uds_copy.values() for var in ud.varieties]\n",
    "        for id_ud, ud in uds_copy.items():\n",
    "            ud.ter_filho()\n",
    "            ud.buscar_ud(media, varieties_list, True)\n",
    "            ud.incrementar_idade()\n",
    "            ud.death_probability(prob_morte)      \n",
    "    print(len([ud for id, ud in uds_copy.items() if ud.activa]))\n",
    "    #Get the distribution, community diversity and mean by UD\n",
    "    total_varieties = []\n",
    "    varieties_per_UD = []\n",
    "    for ud in [ud for ud in UD_endogamy_al_inh.uds.values() if ud.activa ==True]:\n",
    "        varieties_per_UD.append(len(ud.varieties))\n",
    "        for variety in ud.varieties:\n",
    "            total_varieties.append(variety.variety_id)\n",
    "    #mean_ud = np.mean(varieties_per_UD)\n",
    "    #diversity_comm_level = len(set(total_varieties))\n",
    "    data_endo_al_mean_ud.append(np.mean(varieties_per_UD))\n",
    "    data_endo_al_com_level.append(len(set(total_varieties)))\n",
    "    data_endo_al_total_varieties.append(total_varieties)\n",
    "data_inherit_endo_al[inherit] = [data_endo_al_mean_ud, data_endo_al_com_level, data_endo_al_total_varieties]"
   ]
  },
  {
   "cell_type": "code",
   "execution_count": 20,
   "id": "85e8269d",
   "metadata": {},
   "outputs": [
    {
     "data": {
      "text/plain": [
       "1"
      ]
     },
     "execution_count": 20,
     "metadata": {},
     "output_type": "execute_result"
    }
   ],
   "source": [
    "len(data_inherit_endo_al)"
   ]
  },
  {
   "cell_type": "code",
   "execution_count": null,
   "id": "c239c91a",
   "metadata": {},
   "outputs": [],
   "source": []
  },
  {
   "cell_type": "code",
   "execution_count": null,
   "id": "ea5c3358",
   "metadata": {},
   "outputs": [],
   "source": []
  },
  {
   "cell_type": "markdown",
   "id": "bb6a11ff",
   "metadata": {},
   "source": [
    "## Dual organization"
   ]
  },
  {
   "cell_type": "code",
   "execution_count": 21,
   "id": "b9f6593d",
   "metadata": {},
   "outputs": [
    {
     "name": "stdout",
     "output_type": "stream",
     "text": [
      "70\n",
      "87\n"
     ]
    }
   ],
   "source": [
    "#DUAL ORGANIZATION\n",
    "#Parameters dual_organization\n",
    "iniciais = 30 # Initial UD\n",
    "prob_morte = 0.06 # Beta from the gutertz equation\n",
    "media = 4 # Average children per UD\n",
    "random.seed(42) # Random seed\n",
    "t = 201 #steps of the simulation\n",
    "#inheritance = [100,90,80,70,60,50]\n",
    "data_inherit_dual_al = {}\n",
    "#for inherit in inheritance:\n",
    "data_dual_al_mean_ud = []\n",
    "data_dual_al_com_level = []\n",
    "data_dual_al_total_varieties = []\n",
    "for exp in range(1, experiments+1):\n",
    "    #### Initialization dual_organization\n",
    "    ## Communities\n",
    "    clans = (list(range(1, 2 + 1)) * (iniciais // 2)) # Just 2 clans\n",
    "    communities = (list(range(1, 2 + 1)) * (iniciais // 2)) # Just 2 communities\n",
    "    random.shuffle(clans)\n",
    "    random.shuffle(communities)\n",
    "    UD_dual_organization_al_inh.uds = {}\n",
    "    instancias_ud = []\n",
    "    for id_ud in range(1, int(iniciais) + 1):\n",
    "            instancias_ud.append(UD_dual_organization_al_inh(id_ud, media, communities.pop(), clans.pop()))\n",
    "    ## Varieties\n",
    "    limited_varieties = True\n",
    "    if limited_varieties == False:\n",
    "        for id_ud, ud in UD_dual_organization_al_inh.uds.items():\n",
    "            for _ in range(3):\n",
    "                ud.varieties.append(Variety())\n",
    "    else:\n",
    "        initial_varieties = [Variety() for _ in range (10)]\n",
    "        for ud in UD_dual_organization_al_inh.uds.values():\n",
    "            for _ in range(3):\n",
    "                ud.varieties.append(random.choice(initial_varieties))\n",
    "    #### Simulation\n",
    "    for i in range (1, (t)):\n",
    "        uds_copy = {id_ud: ud for id_ud, ud in UD_dual_organization_al_inh.uds.items() if ud.activa}\n",
    "        if not uds_copy:\n",
    "            print(\"acabo\")\n",
    "            break\n",
    "        # Cycle: \n",
    "        varieties_list = [var for ud in uds_copy.values() for var in ud.varieties]\n",
    "        for id_ud, ud in uds_copy.items():\n",
    "            ud.ter_filho()\n",
    "            ud.buscar_ud(media, varieties_list, True, False)\n",
    "            ud.incrementar_idade()\n",
    "            ud.death_probability(prob_morte)\n",
    "\n",
    "    print(len([ud for id, ud in uds_copy.items() if ud.activa]))\n",
    "    #Get the distribution, community diversity and mean by UD\n",
    "    total_varieties = []\n",
    "    varieties_per_UD = []\n",
    "    for ud in [ud for ud in UD_dual_organization_al_inh.uds.values() if ud.activa ==True]:\n",
    "        varieties_per_UD.append(len(ud.varieties))\n",
    "        for variety in ud.varieties:\n",
    "            total_varieties.append(variety.variety_id)\n",
    "    #mean_ud = np.mean(varieties_per_UD)\n",
    "    #diversity_comm_level = len(set(total_varieties))\n",
    "    data_dual_al_mean_ud.append(np.mean(varieties_per_UD))\n",
    "    data_dual_al_com_level.append(len(set(total_varieties)))\n",
    "    data_dual_al_total_varieties.append(total_varieties)\n",
    "data_inherit_dual_al[inherit] = [data_dual_al_mean_ud, data_dual_al_com_level, data_dual_al_total_varieties]"
   ]
  },
  {
   "cell_type": "code",
   "execution_count": 22,
   "id": "c6835609",
   "metadata": {},
   "outputs": [
    {
     "data": {
      "text/plain": [
       "1"
      ]
     },
     "execution_count": 22,
     "metadata": {},
     "output_type": "execute_result"
    }
   ],
   "source": [
    "len(data_inherit_dual_al)"
   ]
  },
  {
   "cell_type": "code",
   "execution_count": 15,
   "id": "7dc89bb4",
   "metadata": {},
   "outputs": [
    {
     "name": "stdout",
     "output_type": "stream",
     "text": [
      "8.0\n",
      "9.0\n",
      "8.5\n",
      "8.5\n",
      "9.5\n",
      "9.5\n"
     ]
    }
   ],
   "source": [
    "for inherit in inheritance:\n",
    "    print(np.mean(data_inherit_dual_al[inherit][1]))"
   ]
  },
  {
   "cell_type": "code",
   "execution_count": null,
   "id": "e0173449",
   "metadata": {},
   "outputs": [],
   "source": []
  },
  {
   "cell_type": "code",
   "execution_count": null,
   "id": "9db0c126",
   "metadata": {},
   "outputs": [],
   "source": []
  },
  {
   "cell_type": "markdown",
   "id": "87c0b9ba",
   "metadata": {},
   "source": [
    "## Restricted"
   ]
  },
  {
   "cell_type": "code",
   "execution_count": 23,
   "id": "d028ea5f",
   "metadata": {},
   "outputs": [
    {
     "name": "stdout",
     "output_type": "stream",
     "text": [
      "142\n",
      "40\n"
     ]
    }
   ],
   "source": [
    "#RESTRICTED\n",
    "#Parameters restricted\n",
    "experiments = 2\n",
    "iniciais = 30 # Initial UD\n",
    "prob_morte = 0.06 # Beta from the gutertz equation\n",
    "media = 4 # Average children per UD\n",
    "random.seed(42) # Random seed\n",
    "t = 201 #steps of the simulation\n",
    "#inheritance = [100,90,80,70,60,50]\n",
    "data_inherit_restricted_al = {}\n",
    "#for inherit in inheritance:\n",
    "data_restricted_al_mean_ud = []\n",
    "data_restricted_al_com_level = []\n",
    "data_restricted_al_total_varieties = []\n",
    "for exp in range(1, experiments+1):\n",
    "    #### Initialization dual_organization\n",
    "    ## Communities\n",
    "    clans = (list(range(1, 3 + 1)) * (iniciais // 2)) # Just 3 clans\n",
    "    communities = (list(range(1, 2 + 1)) * (iniciais // 2)) # Just 2 communities\n",
    "    random.shuffle(clans)\n",
    "    random.shuffle(communities)\n",
    "    UD_restricted_al_inh.uds = {}\n",
    "    instancias_ud = []\n",
    "    for id_ud in range(1, int(iniciais) + 1):\n",
    "            instancias_ud.append(UD_restricted_al_inh(id_ud, media, communities.pop(), clans.pop()))\n",
    "    ## Varieties\n",
    "    limited_varieties = True\n",
    "    if limited_varieties == False:\n",
    "        for id_ud, ud in UD_restricted_al_inh.uds.items():\n",
    "            for _ in range(3):\n",
    "                ud.varieties.append(Variety())\n",
    "    else:\n",
    "        initial_varieties = [Variety() for _ in range (10)]\n",
    "        for ud in UD_restricted_al_inh.uds.values():\n",
    "            for _ in range(3):\n",
    "                ud.varieties.append(random.choice(initial_varieties))\n",
    "    #### Simulation\n",
    "    for i in range (1, (t)):\n",
    "        uds_copy = {id_ud: ud for id_ud, ud in UD_restricted_al_inh.uds.items() if ud.activa}\n",
    "        if not uds_copy:\n",
    "            print(\"acabo\")\n",
    "            break\n",
    "        # Cycle: \n",
    "        varieties_list = [var for ud in uds_copy.values() for var in ud.varieties]\n",
    "        for id_ud, ud in uds_copy.items():\n",
    "            ud.ter_filho()\n",
    "            ud.buscar_ud(media, varieties_list, True, False)\n",
    "            ud.incrementar_idade()\n",
    "            ud.death_probability(prob_morte)\n",
    "    print(len([ud for id, ud in uds_copy.items() if ud.activa]))\n",
    "    #Get the distribution, community diversity and mean by UD\n",
    "    total_varieties = []\n",
    "    varieties_per_UD = []\n",
    "    for ud in [ud for ud in UD_restricted_al_inh.uds.values() if ud.activa ==True]:\n",
    "        varieties_per_UD.append(len(ud.varieties))\n",
    "        for variety in ud.varieties:\n",
    "            total_varieties.append(variety.variety_id)\n",
    "    #mean_ud = np.mean(varieties_per_UD)\n",
    "    #diversity_comm_level = len(set(total_varieties))\n",
    "    data_restricted_al_mean_ud.append(np.mean(varieties_per_UD))\n",
    "    data_restricted_al_com_level.append(len(set(total_varieties)))\n",
    "    data_restricted_al_total_varieties.append(total_varieties)\n",
    "data_inherit_restricted_al[inherit] = [data_restricted_al_mean_ud, data_restricted_al_com_level, data_restricted_al_total_varieties]"
   ]
  },
  {
   "cell_type": "code",
   "execution_count": 24,
   "id": "83d392d8",
   "metadata": {},
   "outputs": [
    {
     "data": {
      "text/plain": [
       "1"
      ]
     },
     "execution_count": 24,
     "metadata": {},
     "output_type": "execute_result"
    }
   ],
   "source": [
    "len(data_inherit_restricted_al)"
   ]
  },
  {
   "cell_type": "code",
   "execution_count": 16,
   "id": "71ace6b2",
   "metadata": {},
   "outputs": [
    {
     "name": "stdout",
     "output_type": "stream",
     "text": [
      "7.5\n",
      "6.0\n",
      "9.0\n",
      "5.5\n",
      "7.5\n",
      "7.5\n"
     ]
    }
   ],
   "source": [
    "for inherit in inheritance:\n",
    "    print(np.mean(data_inherit_restricted_al[inherit][1]))"
   ]
  },
  {
   "cell_type": "code",
   "execution_count": null,
   "id": "9594a2b6",
   "metadata": {},
   "outputs": [],
   "source": []
  }
 ],
 "metadata": {
  "kernelspec": {
   "display_name": "Python 3 (ipykernel)",
   "language": "python",
   "name": "python3"
  },
  "language_info": {
   "codemirror_mode": {
    "name": "ipython",
    "version": 3
   },
   "file_extension": ".py",
   "mimetype": "text/x-python",
   "name": "python",
   "nbconvert_exporter": "python",
   "pygments_lexer": "ipython3",
   "version": "3.9.1"
  }
 },
 "nbformat": 4,
 "nbformat_minor": 5
}
