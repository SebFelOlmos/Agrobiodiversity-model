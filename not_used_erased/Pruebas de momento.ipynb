{
 "cells": [
  {
   "cell_type": "code",
   "execution_count": 1,
   "id": "9a66ee9d",
   "metadata": {},
   "outputs": [],
   "source": [
    "import random\n",
    "import time\n",
    "import matplotlib.pyplot as plt\n",
    "import numpy as np\n",
    "import networkx as nx\n",
    "import math\n",
    "from collections import Counter\n",
    "import os\n",
    "import sys\n",
    "\n",
    "# Notebook path\n",
    "current_directory = os.getcwd()\n",
    "# Get one behind for calling the other modules\n",
    "root_directory = os.path.abspath(os.path.join(current_directory, '..'))\n",
    "sys.path.append(root_directory)\n",
    "\n",
    "#Classes\n",
    "from model_class.UD import UD\n",
    "from model_class.Variety import Variety\n",
    "\n",
    "#Network and measures\n",
    "from to_get_data.net_construction_vis_measures import *\n",
    "#Agrobiodiversity\n",
    "from to_get_data.agrobiodiversity_data import *"
   ]
  },
  {
   "cell_type": "code",
   "execution_count": 34,
   "id": "fb09de50",
   "metadata": {},
   "outputs": [
    {
     "name": "stdout",
     "output_type": "stream",
     "text": [
      "[1, 1, 1, 1, 1, 1, 2, 2, 2, 2, 2, 2, 3, 3, 3, 3, 3, 3, 4, 4, 4, 4, 4, 4, 5, 5, 5, 5, 5, 5]\n",
      "finished with 408 vivas \n"
     ]
    }
   ],
   "source": [
    "#### Parametros\n",
    "n = 30\n",
    "prob_morte = 0.06\n",
    "average_children = 4\n",
    "t = 500\n",
    "\n",
    "#### Initialization\n",
    "## Comunidades\n",
    "UD.uds = {}\n",
    "comunidades_disponibles = [i for i in range(1, 6) for _ in range(6)]\n",
    "print(comunidades_disponibles)\n",
    "instancias_ud = []\n",
    "for id_ud in range(1, n + 1):\n",
    "    instancias_ud.append(UD(id_ud, average_children, comunidades_disponibles.pop(0)))\n",
    "## Variedades y repartirlas entre las comunidades\n",
    "for id_ud, ud in UD.uds.items():\n",
    "    for _ in range(5):\n",
    "        ud.varieties.append(Variety())\n",
    "\n",
    "for i in range (1, (t)):\n",
    "    uds_copy = dict(UD.uds) #As UDs existentes no tempo n\n",
    "    any_ud_active = False # Flag to see if the simulation went to extintion\n",
    "    for id_ud, ud in uds_copy.items():\n",
    "        if ud.activa == True:\n",
    "            any_ud_active = True\n",
    "            ud.ter_filho()\n",
    "            ud.buscar_ud(average_children, 50, True)\n",
    "            ud.incrementar_idade()\n",
    "            ud.death_probability(prob_morte)\n",
    "vivas = [ud for id, ud in uds_copy.items() if ud.activa]\n",
    "print(f\"finished with {len(vivas)} vivas \")"
   ]
  },
  {
   "cell_type": "code",
   "execution_count": 35,
   "id": "bbc950af",
   "metadata": {},
   "outputs": [
    {
     "name": "stdout",
     "output_type": "stream",
     "text": [
      "408\n"
     ]
    },
    {
     "data": {
      "image/png": "[encoded data removed]",
      "text/plain": [
       "<Figure size 432x288 with 1 Axes>"
      ]
     },
     "metadata": {
      "needs_background": "light"
     },
     "output_type": "display_data"
    }
   ],
   "source": [
    "print(len([ud for id, ud in uds_copy.items() if ud.activa]))\n",
    "vivas = [ud for id, ud in uds_copy.items() if ud.activa]\n",
    "comunidades_lista = [ud.community for ud in vivas]\n",
    "# Final distribution of UDs for community\n",
    "plt.hist(comunidades_lista, bins=range(1, 7), align='left', alpha=0.7, color='blue', edgecolor='black')\n",
    "plt.title('Histograma de Comunidades')\n",
    "plt.xlabel('Comunidad')\n",
    "plt.ylabel('Frecuencia')\n",
    "plt.show()"
   ]
  },
  {
   "cell_type": "code",
   "execution_count": 36,
   "id": "0123532b",
   "metadata": {},
   "outputs": [
    {
     "data": {
      "text/plain": [
       "350"
      ]
     },
     "execution_count": 36,
     "metadata": {},
     "output_type": "execute_result"
    }
   ],
   "source": [
    "175*2"
   ]
  },
  {
   "cell_type": "code",
   "execution_count": null,
   "id": "e328600f",
   "metadata": {},
   "outputs": [],
   "source": []
  },
  {
   "cell_type": "code",
   "execution_count": null,
   "id": "dcc0500d",
   "metadata": {},
   "outputs": [],
   "source": []
  },
  {
   "cell_type": "code",
   "execution_count": 3,
   "id": "7cec74df",
   "metadata": {},
   "outputs": [],
   "source": [
    "import random\n",
    "import matplotlib.pyplot as plt"
   ]
  },
  {
   "cell_type": "code",
   "execution_count": 11,
   "id": "f2229e0c",
   "metadata": {},
   "outputs": [
    {
     "data": {
      "image/png": "[encoded data removed]",
      "text/plain": [
       "<Figure size 432x288 with 1 Axes>"
      ]
     },
     "metadata": {
      "needs_background": "light"
     },
     "output_type": "display_data"
    }
   ],
   "source": [
    "def random_gaussian_within_range(mean, std_deviation):\n",
    "    while True:\n",
    "        number = random.gauss(mean, std_deviation)\n",
    "        if 0 <= number <= 1:\n",
    "            return number\n",
    "\n",
    "# Simulation with 1000 tries\n",
    "mean_value = 0.5\n",
    "std_deviation_value = 0.15\n",
    "simulation_results = [random_gaussian_within_range(mean_value, std_deviation_value) for _ in range(1000)]\n",
    "\n",
    "# Plotting the results\n",
    "plt.hist(simulation_results, bins=30, density=True, alpha=0.7, color='blue')\n",
    "plt.title('Simulation Results: Gaussian Distribution (mean=0.5, std_dev=0.1.5)')\n",
    "plt.xlabel('Generated Numbers')\n",
    "plt.ylabel('Frequency')\n",
    "plt.show()"
   ]
  },
  {
   "cell_type": "code",
   "execution_count": 1,
   "id": "183cf237",
   "metadata": {},
   "outputs": [],
   "source": [
    "import random\n",
    "import numpy as np\n",
    "from collections import namedtuple"
   ]
  },
  {
   "cell_type": "code",
   "execution_count": 66,
   "id": "18dccbdf",
   "metadata": {},
   "outputs": [],
   "source": [
    "# For the new varieties\n",
    "VarietyData = namedtuple('VarietyData', ['hs_constant', 'quality'])\n",
    "\n",
    "class Variety:\n",
    "    def __init__(self):\n",
    "        self.hs_constant, self.quality = self.set_hsc_qual()\n",
    "        \n",
    "    def set_hsc_qual(self): #For the hs_constant and quality. \n",
    "        hsc = np.zeros(3)\n",
    "        for i in range(len(hsc)):\n",
    "            while True:\n",
    "                number = random.gauss(0.5, 0.15)\n",
    "                if 0 <= number <= 1:\n",
    "                    hsc[i] = number\n",
    "                    break\n",
    "        while True:\n",
    "                number = random.gauss(0.5, 0.15)\n",
    "                if 0 <= number <= 1:\n",
    "                    quality = number\n",
    "                    break\n",
    "        return hsc, quality\n",
    "        \n",
    "    def set_id():\n",
    "        pass\n",
    "        \n",
    "    def mutation(self):\n",
    "        pass\n",
    "    def newVariety(self, new_variety):\n",
    "        self.hs_constant = new_variety.hs_constant\n",
    "        self.quality = new_variety.quality\n",
    "\n",
    "#This function is ouside the class but is related to it!!! \n",
    "def cruzamento(variedad1, variedad2, change):\n",
    "    new_hsconstant = []\n",
    "    new_quality = []\n",
    "    for j in range(3):  # Three numbers for each variety\n",
    "        new_value = (variedad1.hs_constant[j] + variedad2.hs_constant[j]) / 2 + change * (2 * random.uniform(0, 1) - 1)\n",
    "        while new_value < 0 or new_value > 1:\n",
    "            new_value = (variedad1.hs_constant[j] + variedad2.hs_constant[j]) / 2 + change * (2 * random.uniform(0, 1) - 1)\n",
    "        new_hsconstant.append(new_value)\n",
    "    new_quality = (variedad1.quality + variedad2.quality) / 2 + change * random.uniform(0, 1)\n",
    "    while new_quality < 0 or new_quality > 1:\n",
    "        new_quality = (variedad1.quality + variedad2.quality) / 2 + change * random.uniform(0, 1)\n",
    "\n",
    "    return VarietyData(hs_constant=np.array(new_hsconstant), quality=new_quality)\n",
    "\n",
    "#Function to introduce a new variety. This function is related to the introduction of varieties\n",
    "def intr_new_variety():\n",
    "    if  random.uniform(0,1) < 0.5: #Probability parameter is not specified yet.\n",
    "        return Variety()"
   ]
  },
  {
   "cell_type": "code",
   "execution_count": 69,
   "id": "550c33c2",
   "metadata": {},
   "outputs": [],
   "source": [
    "intr_new_variety()"
   ]
  },
  {
   "cell_type": "code",
   "execution_count": 15,
   "id": "627f21f0",
   "metadata": {},
   "outputs": [],
   "source": [
    "variedades = [Variety() for i in range(5)]"
   ]
  },
  {
   "cell_type": "code",
   "execution_count": 16,
   "id": "77bced33",
   "metadata": {},
   "outputs": [
    {
     "data": {
      "text/plain": [
       "[<__main__.Variety at 0x2164605bee0>,\n",
       " <__main__.Variety at 0x2164605b580>,\n",
       " <__main__.Variety at 0x2164605b490>,\n",
       " <__main__.Variety at 0x2164605b280>,\n",
       " <__main__.Variety at 0x2164605b340>]"
      ]
     },
     "execution_count": 16,
     "metadata": {},
     "output_type": "execute_result"
    }
   ],
   "source": [
    "variedades"
   ]
  },
  {
   "cell_type": "code",
   "execution_count": 12,
   "id": "f5626f63",
   "metadata": {},
   "outputs": [
    {
     "ename": "NameError",
     "evalue": "name 'cruzamento' is not defined",
     "output_type": "error",
     "traceback": [
      "\u001b[1;31m---------------------------------------------------------------------------\u001b[0m",
      "\u001b[1;31mNameError\u001b[0m                                 Traceback (most recent call last)",
      "\u001b[1;32m~\\AppData\\Local\\Temp/ipykernel_12444/3059847532.py\u001b[0m in \u001b[0;36m<module>\u001b[1;34m\u001b[0m\n\u001b[1;32m----> 1\u001b[1;33m \u001b[0ma\u001b[0m \u001b[1;33m=\u001b[0m \u001b[0mcruzamento\u001b[0m\u001b[1;33m(\u001b[0m\u001b[0mvariedades\u001b[0m\u001b[1;33m[\u001b[0m\u001b[1;36m0\u001b[0m\u001b[1;33m]\u001b[0m\u001b[1;33m,\u001b[0m \u001b[0mvariedades\u001b[0m\u001b[1;33m[\u001b[0m\u001b[1;36m1\u001b[0m\u001b[1;33m]\u001b[0m\u001b[1;33m,\u001b[0m \u001b[1;36m0.5\u001b[0m\u001b[1;33m)\u001b[0m\u001b[1;33m\u001b[0m\u001b[1;33m\u001b[0m\u001b[0m\n\u001b[0m",
      "\u001b[1;31mNameError\u001b[0m: name 'cruzamento' is not defined"
     ]
    }
   ],
   "source": [
    "a = cruzamento(variedades[0], variedades[1], 0.5)"
   ]
  },
  {
   "cell_type": "code",
   "execution_count": 27,
   "id": "e9ef8c18",
   "metadata": {},
   "outputs": [
    {
     "data": {
      "text/plain": [
       "array([0.64464573, 0.46359038, 0.64300136])"
      ]
     },
     "execution_count": 27,
     "metadata": {},
     "output_type": "execute_result"
    }
   ],
   "source": [
    "a.hs_constant "
   ]
  },
  {
   "cell_type": "code",
   "execution_count": 45,
   "id": "9f82c084",
   "metadata": {},
   "outputs": [
    {
     "name": "stdout",
     "output_type": "stream",
     "text": [
      "[0.50436353 0.50303938 0.64457133] and 0.7369571504668777\n",
      "[0.77274399 0.4397489  0.63257319] and 0.5031991268484103\n",
      "[0.63838813 0.46918215 0.63289366] and 0.6251529836248655\n",
      "Now the mix!\n",
      "VarietyData(hs_constant=array([0.64832076, 0.46243019, 0.63348907]), quality=0.6247511312331101)\n",
      "[0.64832076 0.46243019 0.63348907] and 0.6247511312331101\n"
     ]
    }
   ],
   "source": [
    "print (f'{variedades[0].hs_constant} and {variedades[0].quality}')\n",
    "print (f'{variedades[1].hs_constant} and {variedades[1].quality}')\n",
    "print (f'{variedades[2].hs_constant} and {variedades[2].quality}')\n",
    "\n",
    "print('Now the mix!')\n",
    "\n",
    "a = cruzamento(variedades[0], variedades[1], 0.01)\n",
    "print(a)\n",
    "\n",
    "variedades[2].newVariety(a)\n",
    "print (f'{variedades[2].hs_constant} and {variedades[2].quality}')"
   ]
  },
  {
   "cell_type": "code",
   "execution_count": 62,
   "id": "ede57594",
   "metadata": {},
   "outputs": [
    {
     "data": {
      "text/plain": [
       "array([0.53710425, 0.29142013, 0.55327337])"
      ]
     },
     "execution_count": 62,
     "metadata": {},
     "output_type": "execute_result"
    }
   ],
   "source": [
    "variedades[2].hs_constant"
   ]
  },
  {
   "cell_type": "markdown",
   "id": "5e390d39",
   "metadata": {},
   "source": [
    "Tengo que pensar como representar el apego social. Esto puede ser justificado al decir que la cualidad es diferente. Este apego social puede estar relacionado a la familia o puede aparecer aleatoriamente. \n",
    "Tambien va a determinar el nombre! \n",
    "Cruzamiento"
   ]
  },
  {
   "cell_type": "code",
   "execution_count": 15,
   "id": "74207e47",
   "metadata": {},
   "outputs": [
    {
     "name": "stdout",
     "output_type": "stream",
     "text": [
      "[0.1, 0.2, 0.3]\n",
      "0.8\n"
     ]
    }
   ],
   "source": [
    "from collections import namedtuple\n",
    "\n",
    "VarietyData = namedtuple('VarietyData', ['half_saturation', 'quality'])\n",
    "\n",
    "# Crear una instancia de VarietyData\n",
    "variety_data = VarietyData(half_saturation=[0.1, 0.2, 0.3], quality=0.8)\n",
    "\n",
    "# Acceder a los atributos\n",
    "print(variety_data.half_saturation)\n",
    "print(variety_data.quality)"
   ]
  },
  {
   "cell_type": "code",
   "execution_count": 9,
   "id": "944dcde2",
   "metadata": {},
   "outputs": [],
   "source": [
    "variedades = [Variety() for i in range(5)]"
   ]
  },
  {
   "cell_type": "code",
   "execution_count": 14,
   "id": "e0ccfe57",
   "metadata": {},
   "outputs": [
    {
     "name": "stdout",
     "output_type": "stream",
     "text": [
      "0.398808233373802\n",
      "0.6046906028332067\n",
      "0.543402589250189\n",
      "0.5338098908937995\n",
      "0.5138043887033128\n"
     ]
    }
   ],
   "source": [
    "for i in range(len(variedades)):\n",
    "    print(variedades[i].quality)"
   ]
  },
  {
   "cell_type": "code",
   "execution_count": null,
   "id": "f7ef3ebb",
   "metadata": {},
   "outputs": [],
   "source": []
  },
  {
   "cell_type": "code",
   "execution_count": null,
   "id": "c1c5576e",
   "metadata": {},
   "outputs": [],
   "source": []
  },
  {
   "cell_type": "code",
   "execution_count": null,
   "id": "cef93b19",
   "metadata": {},
   "outputs": [],
   "source": []
  },
  {
   "cell_type": "code",
   "execution_count": null,
   "id": "37652883",
   "metadata": {},
   "outputs": [],
   "source": []
  },
  {
   "cell_type": "code",
   "execution_count": null,
   "id": "1e213843",
   "metadata": {},
   "outputs": [],
   "source": []
  }
 ],
 "metadata": {
  "kernelspec": {
   "display_name": "Python 3 (ipykernel)",
   "language": "python",
   "name": "python3"
  },
  "language_info": {
   "codemirror_mode": {
    "name": "ipython",
    "version": 3
   },
   "file_extension": ".py",
   "mimetype": "text/x-python",
   "name": "python",
   "nbconvert_exporter": "python",
   "pygments_lexer": "ipython3",
   "version": "3.9.1"
  }
 },
 "nbformat": 4,
 "nbformat_minor": 5
}
