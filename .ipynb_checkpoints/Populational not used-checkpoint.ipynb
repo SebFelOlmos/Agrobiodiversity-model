{
 "cells": [
  {
   "cell_type": "code",
   "execution_count": null,
   "id": "8b82a406",
   "metadata": {},
   "outputs": [],
   "source": []
  },
  {
   "cell_type": "markdown",
   "id": "f706626c",
   "metadata": {},
   "source": [
    "## Ahora todos a la vez como algo bien locooooooooooooooo"
   ]
  },
  {
   "cell_type": "code",
   "execution_count": null,
   "id": "47b75e13",
   "metadata": {},
   "outputs": [],
   "source": [
    "import numpy as np\n",
    "import matplotlib.pyplot as plt\n",
    "from mpl_toolkits.mplot3d import Axes3D\n",
    "\n",
    "# Valores para las variables a, b y c (1 a 10)\n",
    "a_values = np.arange(1, 11)\n",
    "b_values = np.arange(1, 11)\n",
    "c_values = np.arange(1, 11)\n",
    "\n",
    "# Crear la matriz tridimensional\n",
    "M = np.zeros((len(a_values), len(b_values), len(c_values)))\n",
    "\n",
    "# Llenar la matriz con la suma de las variables\n",
    "for i, a in enumerate(a_values):\n",
    "    for j, b in enumerate(b_values):\n",
    "        for k, c in enumerate(c_values):\n",
    "            M[i][j][k] = a + b + c\n",
    "\n",
    "# Crear la figura 3D\n",
    "fig = plt.figure(figsize=(10, 8))\n",
    "ax = fig.add_subplot(111, projection='3d')\n",
    "\n",
    "# Obtener las coordenadas de los puntos tridimensionales\n",
    "X, Y, Z = np.meshgrid(a_values, b_values, c_values)\n",
    "\n",
    "# Graficar el resultado tridimensional\n",
    "scatter = ax.scatter(X, Y, Z, c=M.flatten(), cmap='viridis', s=50)\n",
    "ax.set_xlabel('Variable A')\n",
    "ax.set_ylabel('Variable B')\n",
    "ax.set_zlabel('Variable C')\n",
    "ax.set_title('Suma de Variables A, B y C en un Espacio 3D')\n",
    "\n",
    "# Agregar la barra de colores\n",
    "colorbar = fig.colorbar(scatter, ax=ax, label='Suma de Variables A, B y C')\n",
    "\n",
    "plt.show()"
   ]
  },
  {
   "cell_type": "code",
   "execution_count": null,
   "id": "db597682",
   "metadata": {},
   "outputs": [],
   "source": [
    "#En este experimento variamos los 3!! estamos locooos\n",
    "media_filhos = 4\n",
    "idade_morte = 70\n",
    "unidades_iniciais = 50\n",
    "salphas = np.linspace(1,media_filhos, media_filhos) #media de filhos. De 1 ate media_filhos\n",
    "sbetas = np.linspace(50,idade_morte, int(((idade_morte-50)/10))) #idade_morte. De 10 ate idade_morte\n",
    "sgamas = np.linspace(10, unidades_iniciais, int(unidades_iniciais/10)) #unidades_iniciais. De 10 ate unidades_iniciais\n",
    "M_total = np.zeros((len(salphas), len(sbetas), len(sgamas))) #Matriz  tridimensional\n",
    "print(M_total.shape)\n",
    "for i, meia in enumerate(salphas):\n",
    "    for j, idade  in enumerate(sbetas):\n",
    "        for k, udsin in enumerate(sgamas):\n",
    "            UD.uds = {}\n",
    "            instancias = [UD(id, int(meia)) for id in range(1, int(udsin) + 1)]\n",
    "            for t in range(300):\n",
    "                uds_copy = dict(UD.uds)\n",
    "                any_ud_active = False\n",
    "                for id_ud, ud in uds_copy.items():\n",
    "                    if ud.activa == True:\n",
    "                        any_ud_active = True\n",
    "                        ud.ter_filho()\n",
    "                        ud.buscar_ud(int(meia))\n",
    "                        ud.incrementar_idade()\n",
    "                        ud.death_probability(int(idade))\n",
    "                if not any_ud_active:\n",
    "                    print(\"No hay mas\")\n",
    "                    break\n",
    "            M_total[i][j][k] = len([ud for id, ud in uds_copy.items() if ud.activa == True])\n",
    "            print(len(UD.uds))\n",
    "            print(f\"\"\"\n",
    "    meia de filhos: {meia}\n",
    "    idade de morte: {idade}\n",
    "    unidades iniciais {udsin}\n",
    "    populacao total: {len([ud for id, ud in uds_copy.items() if ud.activa == True])}\"\"\")\n",
    "    #print(M)"
   ]
  },
  {
   "cell_type": "code",
   "execution_count": null,
   "id": "1d22c411",
   "metadata": {},
   "outputs": [],
   "source": [
    "M_total"
   ]
  },
  {
   "cell_type": "code",
   "execution_count": null,
   "id": "634dbf57",
   "metadata": {},
   "outputs": [],
   "source": [
    "# Crear la figura 3D\n",
    "fig = plt.figure(figsize=(10, 8))\n",
    "ax = fig.add_subplot(111, projection='3d')\n",
    "\n",
    "# Obtener las coordenadas de los puntos tridimensionales\n",
    "X, Y, Z = np.meshgrid(salphas, sbetas, sgamas)\n",
    "\n",
    "# Graficar el resultado tridimensional\n",
    "scatter = ax.scatter(X, Y, Z, c=M_total.flatten(), cmap='viridis', s=100)\n",
    "ax.set_xlabel('Meia filhos')\n",
    "ax.set_ylabel('Idade de morte')\n",
    "ax.set_zlabel('Unidades iniciais') \n",
    "ax.set_title('Populacao total')\n",
    "# Agregar la barra de colores\n",
    "colorbar = fig.colorbar(scatter, ax=ax, label='Populacao total')\n",
    "\n",
    "plt.show()"
   ]
  },
  {
   "cell_type": "code",
   "execution_count": null,
   "id": "7d3fc400",
   "metadata": {},
   "outputs": [],
   "source": [
    "media_filhos = 4\n",
    "idade_morte = 70\n",
    "unidades_iniciais = 50\n",
    "salphas = np.linspace(1,media_filhos, media_filhos) #media de filhos. De 1 ate media_filhos\n",
    "sbetas = np.linspace(50,idade_morte, int(((idade_morte-50)/10))) #idade_morte. De 10 ate idade_morte\n",
    "sgamas = np.linspace(10, unidades_iniciais, int(unidades_iniciais/10)) #unidades_iniciais. De 10 ate unidades_iniciais\n",
    "M = np.zeros((len(alphas), len(betas), len(sgamas))) #Matriz  tridimensional\n",
    "\n",
    "print(salphas, sbetas, sgamas)"
   ]
  },
  {
   "cell_type": "code",
   "execution_count": null,
   "id": "5603cb75",
   "metadata": {},
   "outputs": [],
   "source": []
  }
 ],
 "metadata": {
  "kernelspec": {
   "display_name": "Python 3 (ipykernel)",
   "language": "python",
   "name": "python3"
  },
  "language_info": {
   "codemirror_mode": {
    "name": "ipython",
    "version": 3
   },
   "file_extension": ".py",
   "mimetype": "text/x-python",
   "name": "python",
   "nbconvert_exporter": "python",
   "pygments_lexer": "ipython3",
   "version": "3.9.1"
  }
 },
 "nbformat": 4,
 "nbformat_minor": 5
}
